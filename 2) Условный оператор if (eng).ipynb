{
 "cells": [
  {
   "cell_type": "markdown",
   "metadata": {},
   "source": [
    "Conditional operator if/elif/else\n",
    "---"
   ]
  },
  {
   "cell_type": "markdown",
   "metadata": {},
   "source": [
    "You can control the behavior of the program, depending on certain conditions using if-elif-else expression."
   ]
  },
  {
   "cell_type": "markdown",
   "metadata": {},
   "source": [
    "It starts with the keyword __if__ and is followed by the bool expression."
   ]
  },
  {
   "cell_type": "markdown",
   "metadata": {},
   "source": [
    "Then in the new code block (4 spaces or tabulation beneath __if__) the behavior of a programm is described in case the expression is True."
   ]
  },
  {
   "cell_type": "code",
   "execution_count": 1,
   "metadata": {},
   "outputs": [
    {
     "name": "stdout",
     "output_type": "stream",
     "text": [
      "6\n",
      "More than five\n"
     ]
    }
   ],
   "source": [
    "a = int(input())\n",
    "if a > 5: \n",
    "    print(\"More than five\")"
   ]
  },
  {
   "cell_type": "code",
   "execution_count": 2,
   "metadata": {},
   "outputs": [
    {
     "name": "stdout",
     "output_type": "stream",
     "text": [
      "3\n"
     ]
    }
   ],
   "source": [
    "a = int(input())\n",
    "if a > 5:\n",
    "    print(\"More than five\")"
   ]
  },
  {
   "cell_type": "markdown",
   "metadata": {},
   "source": [
    "If there are plenty of cases using __elif__ you can describe another conditions. For example:"
   ]
  },
  {
   "cell_type": "code",
   "execution_count": 3,
   "metadata": {},
   "outputs": [
    {
     "name": "stdout",
     "output_type": "stream",
     "text": [
      "5\n",
      "Equal to five\n"
     ]
    }
   ],
   "source": [
    "a = int(input())\n",
    "if a > 5: \n",
    "    print(\"More than five\")\n",
    "elif a == 5:\n",
    "    print(\"Equal to five\")"
   ]
  },
  {
   "cell_type": "markdown",
   "metadata": {},
   "source": [
    "In one construction you can use __if__ and __else__ only once, but __else__ can be used unlimitedly."
   ]
  },
  {
   "cell_type": "code",
   "execution_count": 5,
   "metadata": {},
   "outputs": [
    {
     "name": "stdout",
     "output_type": "stream",
     "text": [
      "5\n",
      "From zero to five\n"
     ]
    }
   ],
   "source": [
    "a = int(input())\n",
    "if a > 10: \n",
    "    print(\"More than ten\")\n",
    "elif a > 5:\n",
    "    print(\"From six to ten\")\n",
    "elif a >= 0:\n",
    "    print(\"From zero to five\")"
   ]
  },
  {
   "cell_type": "markdown",
   "metadata": {},
   "source": [
    "Using __else__ you can specify, what the programm should do if all the conditions turned out to be False:"
   ]
  },
  {
   "cell_type": "code",
   "execution_count": 6,
   "metadata": {},
   "outputs": [
    {
     "name": "stdout",
     "output_type": "stream",
     "text": [
      "-5\n",
      "Less than zero\n"
     ]
    }
   ],
   "source": [
    "a = int(input())\n",
    "if a > 10: \n",
    "    print(\"More than ten\")\n",
    "elif a > 5:\n",
    "    print(\"From six to ten\")\n",
    "elif a >= 0:\n",
    "    print(\"From zero to five\")\n",
    "else:\n",
    "    print(\"Less than zero\")"
   ]
  },
  {
   "cell_type": "markdown",
   "metadata": {},
   "source": [
    "Moreover, you can check if an elemnt belongs to collection using keyword __in__:"
   ]
  },
  {
   "cell_type": "code",
   "execution_count": 1,
   "metadata": {},
   "outputs": [
    {
     "name": "stdout",
     "output_type": "stream",
     "text": [
      "Contains s\n"
     ]
    }
   ],
   "source": [
    "a = \"string\" # Пусть есть такая строка\n",
    "if \"s\" in a: # Проверим, есть \n",
    "    print('Contains \"s\"')"
   ]
  },
  {
   "cell_type": "code",
   "execution_count": 2,
   "metadata": {},
   "outputs": [
    {
     "name": "stdout",
     "output_type": "stream",
     "text": [
      "Contains \"first\"\n"
     ]
    }
   ],
   "source": [
    "arr = [\"first\", \"second\", \"third\"]\n",
    "if \"first\" in arr:\n",
    "    print('Contains \"first\"')"
   ]
  },
  {
   "cell_type": "code",
   "execution_count": 2,
   "metadata": {},
   "outputs": [
    {
     "name": "stdout",
     "output_type": "stream",
     "text": [
      "NO\n"
     ]
    }
   ],
   "source": [
    "d = {\"Pavel\" : 2, \"Fyodor\" : 1}\n",
    "if \"Ann\" not in d:\n",
    "    print(\"NO\")"
   ]
  },
  {
   "cell_type": "code",
   "execution_count": null,
   "metadata": {},
   "outputs": [],
   "source": []
  }
 ],
 "metadata": {
  "kernelspec": {
   "display_name": "Python 3",
   "language": "python",
   "name": "python3"
  },
  "language_info": {
   "codemirror_mode": {
    "name": "ipython",
    "version": 3
   },
   "file_extension": ".py",
   "mimetype": "text/x-python",
   "name": "python",
   "nbconvert_exporter": "python",
   "pygments_lexer": "ipython3",
   "version": "3.8.5"
  }
 },
 "nbformat": 4,
 "nbformat_minor": 4
}
