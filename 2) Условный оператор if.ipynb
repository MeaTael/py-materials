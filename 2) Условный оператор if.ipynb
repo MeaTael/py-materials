{
 "cells": [
  {
   "cell_type": "markdown",
   "metadata": {},
   "source": [
    "Условный оператор if/elif/else\n",
    "---"
   ]
  },
  {
   "cell_type": "markdown",
   "metadata": {},
   "source": [
    "С помощью условной конструкции if/elif/else можно управлять поведением программы, в зависимости от определенных условий."
   ]
  },
  {
   "cell_type": "markdown",
   "metadata": {},
   "source": [
    "Условная конструкция начинается с ключевого слова __if__. Далее записывается выражение, которое будет интерпретировано как __bool__."
   ]
  },
  {
   "cell_type": "markdown",
   "metadata": {},
   "source": [
    "Затем, в отдельном блоке кода (отступ в 4 пробела от начала __if__) описывается поведение программы, в случае если выражение - True"
   ]
  },
  {
   "cell_type": "code",
   "execution_count": 1,
   "metadata": {},
   "outputs": [
    {
     "name": "stdout",
     "output_type": "stream",
     "text": [
      "6\n",
      "More than five\n"
     ]
    }
   ],
   "source": [
    "a = int(input())\n",
    "if a > 5: \n",
    "    print(\"More than five\")"
   ]
  },
  {
   "cell_type": "code",
   "execution_count": 2,
   "metadata": {},
   "outputs": [
    {
     "name": "stdout",
     "output_type": "stream",
     "text": [
      "3\n"
     ]
    }
   ],
   "source": [
    "a = int(input())\n",
    "if a > 5:\n",
    "    print(\"More than five\")"
   ]
  },
  {
   "cell_type": "markdown",
   "metadata": {},
   "source": [
    "Если случаев может быть несколько, то можно с помощью __elif__ расписать и остальные условия. Например:"
   ]
  },
  {
   "cell_type": "code",
   "execution_count": 3,
   "metadata": {},
   "outputs": [
    {
     "name": "stdout",
     "output_type": "stream",
     "text": [
      "5\n",
      "Equal to five\n"
     ]
    }
   ],
   "source": [
    "a = int(input())\n",
    "if a > 5: \n",
    "    print(\"More than five\")\n",
    "elif a == 5:\n",
    "    print(\"Equal to five\")"
   ]
  },
  {
   "cell_type": "markdown",
   "metadata": {},
   "source": [
    "В отличие от __if__ и __else__, __elif__ в условной конструкции может быть не один."
   ]
  },
  {
   "cell_type": "code",
   "execution_count": 5,
   "metadata": {},
   "outputs": [
    {
     "name": "stdout",
     "output_type": "stream",
     "text": [
      "5\n",
      "From zero to five\n"
     ]
    }
   ],
   "source": [
    "a = int(input())\n",
    "if a > 10: \n",
    "    print(\"More than ten\")\n",
    "elif a > 5:\n",
    "    print(\"From six to ten\")\n",
    "elif a >= 0:\n",
    "    print(\"From zero to five\")"
   ]
  },
  {
   "cell_type": "markdown",
   "metadata": {},
   "source": [
    "С помощью __else__ можно указать, что следует сделать, в случае, если ни одно из условий не было выполнено:"
   ]
  },
  {
   "cell_type": "code",
   "execution_count": 6,
   "metadata": {},
   "outputs": [
    {
     "name": "stdout",
     "output_type": "stream",
     "text": [
      "-5\n",
      "Less than zero\n"
     ]
    }
   ],
   "source": [
    "a = int(input())\n",
    "if a > 10: \n",
    "    print(\"More than ten\")\n",
    "elif a > 5:\n",
    "    print(\"From six to ten\")\n",
    "elif a >= 0:\n",
    "    print(\"From zero to five\")\n",
    "else:\n",
    "    print(\"Less than zero\")"
   ]
  },
  {
   "cell_type": "markdown",
   "metadata": {},
   "source": [
    "Кроме того, можно проверять принадлежность значения коллекции с помощью ключевого слова __in__:"
   ]
  },
  {
   "cell_type": "code",
   "execution_count": 1,
   "metadata": {},
   "outputs": [
    {
     "name": "stdout",
     "output_type": "stream",
     "text": [
      "Contains s\n"
     ]
    }
   ],
   "source": [
    "a = \"string\" # Пусть есть такая строка\n",
    "if \"s\" in a: # Проверим, есть \n",
    "    print('Contains \"s\"')"
   ]
  },
  {
   "cell_type": "code",
   "execution_count": 2,
   "metadata": {},
   "outputs": [
    {
     "name": "stdout",
     "output_type": "stream",
     "text": [
      "Contains \"first\"\n"
     ]
    }
   ],
   "source": [
    "arr = [\"first\", \"second\", \"third\"]\n",
    "if \"first\" in arr:\n",
    "    print('Contains \"first\"')"
   ]
  }
 ],
 "metadata": {
  "kernelspec": {
   "display_name": "Python 3",
   "language": "python",
   "name": "python3"
  },
  "language_info": {
   "codemirror_mode": {
    "name": "ipython",
    "version": 3
   },
   "file_extension": ".py",
   "mimetype": "text/x-python",
   "name": "python",
   "nbconvert_exporter": "python",
   "pygments_lexer": "ipython3",
   "version": "3.8.5"
  }
 },
 "nbformat": 4,
 "nbformat_minor": 4
}
