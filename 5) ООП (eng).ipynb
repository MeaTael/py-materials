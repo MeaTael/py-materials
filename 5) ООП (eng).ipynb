{
 "cells": [
  {
   "cell_type": "markdown",
   "metadata": {},
   "source": [
    "Object-oriented programming (OOP)\n",
    "---"
   ]
  },
  {
   "cell_type": "markdown",
   "metadata": {},
   "source": [
    "### What are the main principles of OOP?\n",
    "Object-oriented programming is based on the following principles:\n",
    "\n",
    "$\\cdot$ __Encapsulation__. This principle states that all important information is contained inside an object and only select information is exposed. The implementation and state of each object are privately held inside a defined class. Other objects do not have access to this class or the authority to make changes. They are only able to call a list of public functions or methods. This characteristic of data hiding provides greater program security and avoids unintended data corruption.\n",
    "\n",
    "$\\cdot$ __Abstraction__. Objects only reveal internal mechanisms that are relevant for the use of other objects, hiding any unnecessary implementation code. The derived class can have its functionality extended. This concept can help developers more easily make additional changes or additions over time.\n",
    "\n",
    "$\\cdot$ __Inheritance__. Classes can reuse code from other classes. Relationships and subclasses between objects can be assigned, enabling developers to reuse common logic while still maintaining a unique hierarchy. This property of OOP forces a more thorough data analysis, reduces development time and ensures a higher level of accuracy.\n",
    "\n",
    "$\\cdot$ __Polymorphism__. Objects are designed to share behaviors and they can take on more than one form. The program will determine which meaning or usage is necessary for each execution of that object from a parent class, reducing the need to duplicate code. A child class is then created, which extends the functionality of the parent class. Polymorphism allows different types of objects to pass through the same interface."
   ]
  },
  {
   "cell_type": "markdown",
   "metadata": {},
   "source": [
    "### What is the structure of object-oriented programming?\n",
    "The structure, or building blocks, of object-oriented programming include the following:\n",
    "\n",
    "$\\cdot$ __Classes__ are user-defined data types that act as the blueprint for individual objects, attributes and methods.\n",
    "\n",
    "$\\cdot$ __Objects__ are instances of a class created with specifically defined data. Objects can correspond to real-world objects or an abstract entity. When class is defined initially, the description is the only object that is defined.\n",
    "\n",
    "$\\cdot$ __Methods__ are functions that are defined inside a class that describe the behaviors of an object. Each method contained in class definitions starts with a reference to an instance object. Additionally, the subroutines contained in an object are called instance methods. Programmers use methods for reusability or keeping functionality encapsulated inside one object at a time.\n",
    "\n",
    "$\\cdot$ __Attributes__ are defined in the class template and represent the state of an object. Objects will have data stored in the attributes field. Class attributes belong to the class itself."
   ]
  },
  {
   "cell_type": "markdown",
   "metadata": {},
   "source": [
    "Why do we need that? Let's imagine we want to work with data of some student.\n",
    "\n",
    "For example this data is name, surname, table of final grades in the form of a dictionary and the list of hobbies.\n",
    "So we'll have the code like that."
   ]
  },
  {
   "cell_type": "code",
   "execution_count": 34,
   "metadata": {},
   "outputs": [],
   "source": [
    "name = \"Pyotr\"\n",
    "surname = \"Ivanov\"\n",
    "marks = dict()\n",
    "hobbies = list()\n",
    "# Fill student's info\n",
    "subjects = [\"Calculus\", \"Probability theory\", \"Algorithms\"]\n",
    "marks_list = [9, 9, 10]\n",
    "for i in range(3):\n",
    "    marks[subjects[i]] = marks_list[i]\n",
    "hobbies.append(\"Athletics\")"
   ]
  },
  {
   "cell_type": "markdown",
   "metadata": {},
   "source": [
    "Innocence itself! And now let's imagine that we have a couple of students. 30 for example. The code will turn into a mess of names, surnames, lists and dictionaries. Classes help us to get rid of this problem and make code more simple and understandable."
   ]
  },
  {
   "cell_type": "markdown",
   "metadata": {},
   "source": [
    "Let's try to solve the problem and define a class named Student:"
   ]
  },
  {
   "cell_type": "code",
   "execution_count": 2,
   "metadata": {},
   "outputs": [],
   "source": [
    "class Student: # It's easy to create a class: the keyword class should be followed with class name.\n",
    "    name = \"\" # it's the attribute of the class\n",
    "    surname = \"\" # setting default value for attributes.\n",
    "    marks = dict()\n",
    "    hobbies = list()"
   ]
  },
  {
   "cell_type": "markdown",
   "metadata": {},
   "source": [
    "Теперь создадим объект класса Student:"
   ]
  },
  {
   "cell_type": "code",
   "execution_count": 3,
   "metadata": {},
   "outputs": [
    {
     "name": "stdout",
     "output_type": "stream",
     "text": [
      "Pyotr's birthday: 6.09.2001\n"
     ]
    },
    {
     "ename": "AttributeError",
     "evalue": "'Student' object has no attribute 'birthday'",
     "output_type": "error",
     "traceback": [
      "\u001b[1;31m---------------------------------------------------------------------------\u001b[0m",
      "\u001b[1;31mAttributeError\u001b[0m                            Traceback (most recent call last)",
      "\u001b[1;32m<ipython-input-3-6f9399a077a7>\u001b[0m in \u001b[0;36m<module>\u001b[1;34m\u001b[0m\n\u001b[0;32m     18\u001b[0m     \u001b[0mst2\u001b[0m\u001b[1;33m.\u001b[0m\u001b[0mmarks\u001b[0m\u001b[1;33m[\u001b[0m\u001b[0msubjects\u001b[0m\u001b[1;33m[\u001b[0m\u001b[0mi\u001b[0m\u001b[1;33m]\u001b[0m\u001b[1;33m]\u001b[0m \u001b[1;33m=\u001b[0m \u001b[0mmarks_list\u001b[0m\u001b[1;33m[\u001b[0m\u001b[0mi\u001b[0m\u001b[1;33m]\u001b[0m\u001b[1;33m\u001b[0m\u001b[1;33m\u001b[0m\u001b[0m\n\u001b[0;32m     19\u001b[0m \u001b[0mst2\u001b[0m\u001b[1;33m.\u001b[0m\u001b[0mhobbies\u001b[0m\u001b[1;33m.\u001b[0m\u001b[0mappend\u001b[0m\u001b[1;33m(\u001b[0m\u001b[1;34m\"Drawing\"\u001b[0m\u001b[1;33m)\u001b[0m\u001b[1;33m\u001b[0m\u001b[1;33m\u001b[0m\u001b[0m\n\u001b[1;32m---> 20\u001b[1;33m \u001b[0mprint\u001b[0m\u001b[1;33m(\u001b[0m\u001b[1;34m\"Maria's birthday:\"\u001b[0m\u001b[1;33m,\u001b[0m \u001b[0mst2\u001b[0m\u001b[1;33m.\u001b[0m\u001b[0mbirthday\u001b[0m\u001b[1;33m)\u001b[0m\u001b[1;33m\u001b[0m\u001b[1;33m\u001b[0m\u001b[0m\n\u001b[0m\u001b[0;32m     21\u001b[0m \u001b[1;31m# We didn't add birthday attribute for st2, so will get an AttributeError.\u001b[0m\u001b[1;33m\u001b[0m\u001b[1;33m\u001b[0m\u001b[1;33m\u001b[0m\u001b[0m\n",
      "\u001b[1;31mAttributeError\u001b[0m: 'Student' object has no attribute 'birthday'"
     ]
    }
   ],
   "source": [
    "st1 = Student()\n",
    "st1.name = \"Pyotr\" # You can access class attributes using '.'.\n",
    "st1.birthday = \"6.09.2001\" # You can initialize and after that access attribute even if the object doesn't have this attribute.\n",
    "print(\"Pyotr's birthday:\", st1.birthday) # In this case attribute will be added only to the object, not for the whole class. \n",
    "st1.surname = \"Иванов\"\n",
    "subjects = [\"Calculus\", \"Probability theory\", \"Algorithms\"]\n",
    "marks_list = [9, 9, 10]\n",
    "for i in range(3):\n",
    "    st1.marks[subjects[i]] = marks_list[i]\n",
    "st1.hobbies.append(\"Athletics\")\n",
    "# Let's create second student\n",
    "st2 = Student()\n",
    "st2.name = \"Maria\"\n",
    "st2.surname = \"Fyodorova\"\n",
    "subjects = [\"Calculus\", \"Probability theory\", \"Algorithms\"]\n",
    "marks_list = [10, 8, 10]\n",
    "for i in range(3):\n",
    "    st2.marks[subjects[i]] = marks_list[i]\n",
    "st2.hobbies.append(\"Drawing\")\n",
    "print(\"Maria's birthday:\", st2.birthday) \n",
    "# We didn't add birthday attribute for st2, so will get an AttributeError."
   ]
  },
  {
   "cell_type": "markdown",
   "metadata": {},
   "source": [
    "Doesn't look like it's became simplier. But at least we didn't have to create grades dict and hobbies list for each student."
   ]
  },
  {
   "cell_type": "markdown",
   "metadata": {},
   "source": [
    "### Class methods\n",
    "\n",
    "Class method is a function, that belongs to a class. It's declared just like usual fuction, but inside the class block.\n",
    "\n",
    "Let's implement FillMarks, AddHobby and PrintInfo methods:"
   ]
  },
  {
   "cell_type": "code",
   "execution_count": 7,
   "metadata": {},
   "outputs": [],
   "source": [
    "class Student:\n",
    "    name = \"\" \n",
    "    surname = \"\"\n",
    "    marks = dict()\n",
    "    hobbies = list()\n",
    "    \n",
    "    def FillMarks(self, marks_list): # self is a necessary argument. It contains class instance passed when the method is called\n",
    "        subjects = [\"Calculus\", \"Probability theory\", \"Algorithms\"]\n",
    "        for i in range(3):\n",
    "            self.marks[subjects[i]] = marks_list[i]\n",
    "    \n",
    "    def AddHobby(self, hobby):\n",
    "        self.hobbies.append(hobby)\n",
    "        \n",
    "    def PrintInfo(self):\n",
    "        print(self.name, self.surname, \"\\nGrades list:\")\n",
    "        for key in self.marks:\n",
    "            print(\"\\t\", key, \"-\", self.marks[key])\n",
    "        print(\"Hobbies list:\", self.hobbies, end=\"\\n\\n\") "
   ]
  },
  {
   "cell_type": "code",
   "execution_count": 8,
   "metadata": {},
   "outputs": [
    {
     "name": "stdout",
     "output_type": "stream",
     "text": [
      "Pyotr Ivanov \n",
      "Grades list:\n",
      "\t Calculus - 9\n",
      "\t Probability theory - 9\n",
      "\t Algorithms - 10\n",
      "Hobbies list: ['Athletics']\n",
      "\n"
     ]
    }
   ],
   "source": [
    "st1 = Student()\n",
    "st1.name = \"Pyotr\"\n",
    "st1.surname = \"Ivanov\"\n",
    "st1.FillMarks([9, 9, 10])\n",
    "st1.AddHobby(\"Athletics\")\n",
    "st1.PrintInfo()"
   ]
  },
  {
   "cell_type": "markdown",
   "metadata": {},
   "source": [
    "Looks much better now."
   ]
  },
  {
   "cell_type": "markdown",
   "metadata": {},
   "source": [
    "You can create new class instances with predefined arguments using constructor."
   ]
  },
  {
   "cell_type": "code",
   "execution_count": 9,
   "metadata": {},
   "outputs": [],
   "source": [
    "# Class constructor is a special method __init__\n",
    "class Student:\n",
    "    \n",
    "    subjects = [\"Calculus\", \"Probability theory\", \"Algorithms\"]\n",
    "    \n",
    "    def __init__(self, name, surname, marks_list, hobbies_list):\n",
    "        self.name = name\n",
    "        self.surname = surname\n",
    "        self.marks = dict()\n",
    "        self.hobbies = list()\n",
    "        for i in range(len(self.subjects)):\n",
    "            self.SetMark(self.subjects[i], marks_list[i])\n",
    "        for hobby in hobbies_list:\n",
    "            self.AddHobby(hobby)\n",
    "    \n",
    "    def SetMark(self, subject, mark):\n",
    "        self.marks[subject] = mark\n",
    "    \n",
    "    def AddHobby(self, hobby):\n",
    "        self.hobbies.append(hobby)\n",
    "        \n",
    "    def PrintInfo(self):\n",
    "        print(self.name, self.surname, \"\\nGrades list:\")\n",
    "        for key in self.marks:\n",
    "            print(\"\\t\", key, \"-\", self.marks[key])\n",
    "        print(\"Hobbies list:\", self.hobbies, end=\"\\n\\n\") "
   ]
  },
  {
   "cell_type": "code",
   "execution_count": 10,
   "metadata": {},
   "outputs": [
    {
     "name": "stdout",
     "output_type": "stream",
     "text": [
      "Pyotr Ivanov \n",
      "Grades list:\n",
      "\t Calculus - 9\n",
      "\t Probability theory - 9\n",
      "\t Algorithms - 10\n",
      "Hobbies list: ['Athletics']\n",
      "\n",
      "Maria Fyodorova \n",
      "Grades list:\n",
      "\t Calculus - 10\n",
      "\t Probability theory - 8\n",
      "\t Algorithms - 10\n",
      "Hobbies list: ['Drawing']\n",
      "\n"
     ]
    }
   ],
   "source": [
    "st1 = Student(\"Pyotr\", \"Ivanov\", [9, 9, 10], [\"Athletics\"])\n",
    "st1.PrintInfo()\n",
    "\n",
    "st2 = Student(\"Maria\", \"Fyodorova\", [10, 8, 10], [\"Drawing\"])\n",
    "st2.PrintInfo()"
   ]
  },
  {
   "cell_type": "markdown",
   "metadata": {},
   "source": [
    "init is not the only special method. \n",
    "\n",
    "Sometimes we want to implement some mathematical object. Of course we want to be able to perform some mathematical operations with it. For that we need to overload some operators."
   ]
  },
  {
   "cell_type": "code",
   "execution_count": 90,
   "metadata": {},
   "outputs": [
    {
     "name": "stdout",
     "output_type": "stream",
     "text": [
      "(2, 5)\n",
      "(4, 1)\n",
      "3\n",
      "(3, 3)\n",
      "(-3, -3)\n",
      "False\n",
      "True\n"
     ]
    }
   ],
   "source": [
    "# For example let's make a simple implementation for two-dimensional vector\n",
    "\n",
    "class Vector2d:\n",
    "    \n",
    "    def __init__(self, x, y):\n",
    "        self.x = x\n",
    "        self.y = y\n",
    "        \n",
    "    def __add__(self, other): # You can overload + operator by defining __add__ method\n",
    "        return Vector2d(self.x + other.x, self.y + other.y)\n",
    "        \n",
    "    def __sub__(self, other): # You can overload - operator by defining __sub__ method\n",
    "        return Vector2d(self.x - other.x, self.y - other.y)\n",
    "        \n",
    "    def __mul__(self, other): # You can overload * operator by defining __mul__ method\n",
    "        return self.x * other.x + self.y * other.y\n",
    "    \n",
    "    # define __truediv__ method for / operator.\n",
    "    \n",
    "    # difine __floordiv__ method for // operator\n",
    "    \n",
    "    def __pos__(self): # Unary +\n",
    "        return Vector2d(self.x, self.y)\n",
    "    \n",
    "    def __neg__(self): # Unary -\n",
    "        return Vector2d(-self.x, -self.y)\n",
    "    \n",
    "    # All theese methods must return something if you want operations of the type v3 = v1 + v2 to work.\n",
    "    \n",
    "    def __eq__(self, other): # == operator\n",
    "        return self.x == other.x and self.y == other.y\n",
    "    \n",
    "    def __ne__(self, other): # != operator\n",
    "        return self.x != other.x or self.y != other.y\n",
    "    \n",
    "    # Other compare operators: __lt__ - <, __le__ - <=, __gt__ - >, __ge__ - >=\n",
    "    \n",
    "    def __str__(self): # __str__ defines string representation of an object.\n",
    "        return '(' + str(self.x) + \", \" + str(self.y) + \")\"\n",
    "    \n",
    "    # __int__ и __bool__ define integer and boolean representation.\n",
    "    \n",
    "v1 = Vector2d(3, 3)\n",
    "v2 = Vector2d(-1, 2)\n",
    "v3 = v1 + v2\n",
    "print(v3)\n",
    "print(v1 - v2)\n",
    "print(v1 * v2)\n",
    "print(+v1)\n",
    "print(-v1)\n",
    "print(v1 == v2)\n",
    "print(v1 != v2)"
   ]
  },
  {
   "cell_type": "markdown",
   "metadata": {},
   "source": [
    "Inheritance\n",
    "---\n",
    "Classes in Python can inherit from others. Inherited classes get access to the attributes and methods of the parent class.\n",
    "\n",
    "To inherit from another class, in parentheses after the name of the new class we need to specify the name of the class from which we want to inherit (You can inherit from several classes!). \n",
    "\n",
    "For example, let's try to write the Animal base class and the Dog and the Cat classes that will inherit from it."
   ]
  },
  {
   "cell_type": "code",
   "execution_count": 27,
   "metadata": {},
   "outputs": [],
   "source": [
    "class Animal: # Defined class Animal with its own constructor, name_ and age_ attributes, .MakeSound() method\n",
    "    \n",
    "    def __init__(self, name, age):\n",
    "        self.name_ = name\n",
    "        self.age_ = age\n",
    "    \n",
    "    def MakeSound(self):\n",
    "        print(\"Voice\")\n",
    "        \n",
    "class Dog(Animal): # Defined Cat and Dog classes. Will leave them empty for a while.\n",
    "    pass\n",
    "\n",
    "class Cat(Animal):\n",
    "    pass"
   ]
  },
  {
   "cell_type": "code",
   "execution_count": 29,
   "metadata": {},
   "outputs": [
    {
     "name": "stdout",
     "output_type": "stream",
     "text": [
      "Toby 2\n",
      "Voice\n"
     ]
    }
   ],
   "source": [
    "animal = Animal(\"Toby\", 2)\n",
    "print(animal.name_, animal.age_)\n",
    "animal.MakeSound()"
   ]
  },
  {
   "cell_type": "code",
   "execution_count": 30,
   "metadata": {},
   "outputs": [
    {
     "name": "stdout",
     "output_type": "stream",
     "text": [
      "Salem 500\n",
      "Voice\n"
     ]
    }
   ],
   "source": [
    "cat = Cat(\"Salem\", 500)\n",
    "print(cat.name_, cat.age_)\n",
    "cat.MakeSound()"
   ]
  },
  {
   "cell_type": "markdown",
   "metadata": {},
   "source": [
    "As you can see, despite the fact that we did not define a constructor for the Cat class, we were still able to create an object with the given parameters. In addition, access the fields and methods that the Cat class does not have. The constructor, fields and methods were taken from the Animal class.\n",
    "\n",
    "If a class gets its own attribute or method, it replaces the parent's if it has the same name.\n",
    "Let's redefine our Cat and Dog classes."
   ]
  },
  {
   "cell_type": "code",
   "execution_count": 11,
   "metadata": {},
   "outputs": [],
   "source": [
    "class Animal:\n",
    "    \n",
    "    def __init__(self, name, age):\n",
    "        self.name_ = name\n",
    "        self.age_ = age\n",
    "    \n",
    "    def MakeSound(self):\n",
    "        print(\"Voice\")\n",
    "        \n",
    "    def GetInfo(self):\n",
    "        print(self.name_, self.age_)\n",
    "\n",
    "class Dog(Animal):\n",
    "    \n",
    "    def MakeSound(self):\n",
    "        print(\"Woof!\")\n",
    "\n",
    "class Cat(Animal):\n",
    "    \n",
    "    def MakeSound(self):\n",
    "        print(\"Meow!\")"
   ]
  },
  {
   "cell_type": "code",
   "execution_count": 12,
   "metadata": {},
   "outputs": [
    {
     "name": "stdout",
     "output_type": "stream",
     "text": [
      "Toby 2\n",
      "Woof!\n",
      "Salem 500\n",
      "Meow!\n"
     ]
    }
   ],
   "source": [
    "dog = Dog(\"Toby\", 2)\n",
    "cat = Cat(\"Salem\", 500)\n",
    "dog.GetInfo()\n",
    "dog.MakeSound()\n",
    "cat.GetInfo()\n",
    "cat.MakeSound()"
   ]
  }
 ],
 "metadata": {
  "kernelspec": {
   "display_name": "Python 3",
   "language": "python",
   "name": "python3"
  },
  "language_info": {
   "codemirror_mode": {
    "name": "ipython",
    "version": 3
   },
   "file_extension": ".py",
   "mimetype": "text/x-python",
   "name": "python",
   "nbconvert_exporter": "python",
   "pygments_lexer": "ipython3",
   "version": "3.8.5"
  }
 },
 "nbformat": 4,
 "nbformat_minor": 4
}
