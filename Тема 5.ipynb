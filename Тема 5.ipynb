{
 "cells": [
  {
   "cell_type": "markdown",
   "metadata": {},
   "source": [
    "Объектно-ориентированное программирование (ООП)\n",
    "---"
   ]
  },
  {
   "cell_type": "markdown",
   "metadata": {},
   "source": [
    "### Объектно-ориентированная парадигма имеет несколько принципов:\n",
    "1) Данные структурируются в виде объектов, каждый из которых имеет определенный тип, то есть принадлежит к какому-либо классу.\n",
    "\n",
    "2) Классы - результат формализации решаемой задачи, выделения главных её аспектов.\n",
    "\n",
    "3) Внутри объекта инкапсулируется логика работы с относящейся к нему информацией.\n",
    "\n",
    "4) Объекты в программе взаимодействуют друг с другом, обмениваются запросами и ответами.\n",
    "\n",
    "5) При этом объекты одного типа сходным образом отвечают на одни и те же запросы.\n",
    "\n",
    "6) Объекты могут организовываться в более сложные структуры, например, включать другие объекты или наследоваться от одного или нескольких объектов."
   ]
  },
  {
   "cell_type": "markdown",
   "metadata": {},
   "source": [
    "Таким образом, объектно-ориентированное программирование — парадигма программирования, в которой основными концепциями являются понятия объектов и классов. Классы - тип, описывающий устройство объектов. Объект - экземпляр класса."
   ]
  },
  {
   "cell_type": "markdown",
   "metadata": {},
   "source": [
    "Давайте разберемся, а зачем же это всё нужно? Пусть в нашей программе мы хотим работать с данными о каком-нибудь студенте.\n",
    "Этими данными, например, будут фамилия, имя, таблица итоговых оценок по различным предметам в виде словаря и список хобби студента. Итого получатся примерно следующие строки кода:"
   ]
  },
  {
   "cell_type": "code",
   "execution_count": 34,
   "metadata": {},
   "outputs": [],
   "source": [
    "name = \"Пётр\"\n",
    "surname = \"Иванов\"\n",
    "marks = dict()\n",
    "hobbies = list()\n",
    "# Заполним информацию о студенте\n",
    "subjects = [\"Математический анализ\", \"Теория вероятностей\", \"Алгоритмы и структуры данных\"]\n",
    "marks_list = [9, 9, 10]\n",
    "for i in range(3):\n",
    "    marks[subjects[i]] = marks_list[i]\n",
    "hobbies.append(\"Лёгкая атлетика\")"
   ]
  },
  {
   "cell_type": "markdown",
   "metadata": {},
   "source": [
    "На первый взгляд вполне безобидно. А теперь представим, что студент у нас не один, а их много. Скажем, порядка 30 человек. В коде получится полная неразбериха. Классы решают эту проблему и значительно упрощают читаемость и понимание кода."
   ]
  },
  {
   "cell_type": "markdown",
   "metadata": {},
   "source": [
    "Попробуем решить описанную проблему с помощью ООП. Создадим класс Student."
   ]
  },
  {
   "cell_type": "code",
   "execution_count": 8,
   "metadata": {},
   "outputs": [],
   "source": [
    "class Student: # классы создаются очень просто: сначала идёт ключевое слово class, затем название класса.\n",
    "    name = \"\" # после двоеточия в отдельном блоке кода следуют атрибуты класса - информация, которую содержит в себе класс.\n",
    "    surname = \"\" # присваиваем атрибутам класса значения по умолчанию.\n",
    "    marks = dict()\n",
    "    hobbies = list()"
   ]
  },
  {
   "cell_type": "markdown",
   "metadata": {},
   "source": [
    "Теперь создадим объект класса Student:"
   ]
  },
  {
   "cell_type": "code",
   "execution_count": 35,
   "metadata": {},
   "outputs": [
    {
     "name": "stdout",
     "output_type": "stream",
     "text": [
      "День рождения Петра: 6.09.2001\n"
     ]
    },
    {
     "ename": "AttributeError",
     "evalue": "'Student' object has no attribute 'birthday'",
     "output_type": "error",
     "traceback": [
      "\u001b[1;31m---------------------------------------------------------------------------\u001b[0m",
      "\u001b[1;31mAttributeError\u001b[0m                            Traceback (most recent call last)",
      "\u001b[1;32m<ipython-input-35-b3ad58f50d7b>\u001b[0m in \u001b[0;36m<module>\u001b[1;34m\u001b[0m\n\u001b[0;32m     18\u001b[0m     \u001b[0mst2\u001b[0m\u001b[1;33m.\u001b[0m\u001b[0mmarks\u001b[0m\u001b[1;33m[\u001b[0m\u001b[0msubjects\u001b[0m\u001b[1;33m[\u001b[0m\u001b[0mi\u001b[0m\u001b[1;33m]\u001b[0m\u001b[1;33m]\u001b[0m \u001b[1;33m=\u001b[0m \u001b[0mmarks_list\u001b[0m\u001b[1;33m[\u001b[0m\u001b[0mi\u001b[0m\u001b[1;33m]\u001b[0m\u001b[1;33m\u001b[0m\u001b[1;33m\u001b[0m\u001b[0m\n\u001b[0;32m     19\u001b[0m \u001b[0mst2\u001b[0m\u001b[1;33m.\u001b[0m\u001b[0mhobbies\u001b[0m\u001b[1;33m.\u001b[0m\u001b[0mappend\u001b[0m\u001b[1;33m(\u001b[0m\u001b[1;34m\"Рисование\"\u001b[0m\u001b[1;33m)\u001b[0m\u001b[1;33m\u001b[0m\u001b[1;33m\u001b[0m\u001b[0m\n\u001b[1;32m---> 20\u001b[1;33m \u001b[0mprint\u001b[0m\u001b[1;33m(\u001b[0m\u001b[1;34m\"День рождения Марии:\"\u001b[0m\u001b[1;33m,\u001b[0m \u001b[0mst2\u001b[0m\u001b[1;33m.\u001b[0m\u001b[0mbirthday\u001b[0m\u001b[1;33m)\u001b[0m\u001b[1;33m\u001b[0m\u001b[1;33m\u001b[0m\u001b[0m\n\u001b[0m\u001b[0;32m     21\u001b[0m \u001b[1;31m# У объекта st2 мы не создавали поле birthday, поэтому получим ошибку AttributeError\u001b[0m\u001b[1;33m\u001b[0m\u001b[1;33m\u001b[0m\u001b[1;33m\u001b[0m\u001b[0m\n",
      "\u001b[1;31mAttributeError\u001b[0m: 'Student' object has no attribute 'birthday'"
     ]
    }
   ],
   "source": [
    "st1 = Student()\n",
    "st1.name = \"Пётр\" # обращаться к атрибутам класса нужно с помощью оператора '.'.\n",
    "st1.birthday = \"6.09.2001\" # Инициализировать а затем обращаться можно и к атрибутам, которых у класса нет.\n",
    "print(\"День рождения Петра:\", st1.birthday) # В таком случае конкретно для этого объекта такой атрибут появится. \n",
    "st1.surname = \"Иванов\"\n",
    "subjects = [\"Математический анализ\", \"Теория вероятностей\", \"Алгоритмы и структуры данных\"]\n",
    "marks_list = [9, 9, 10]\n",
    "for i in range(3):\n",
    "    st1.marks[subjects[i]] = marks_list[i]\n",
    "st1.hobbies.append(\"Лёгкая атлетика\")\n",
    "# Создадим сразу и второго студента.\n",
    "st2 = Student()\n",
    "st2.name = \"Мария\"\n",
    "st2.surname = \"Фёдорова\"\n",
    "subjects = [\"Математический анализ\", \"Теория вероятностей\", \"Алгоритмы и структуры данных\"]\n",
    "marks_list = [10, 8, 10]\n",
    "for i in range(3):\n",
    "    st2.marks[subjects[i]] = marks_list[i]\n",
    "st2.hobbies.append(\"Рисование\")\n",
    "print(\"День рождения Марии:\", st2.birthday) \n",
    "# У объекта st2 мы не создавали атрибут birthday, поэтому получим ошибку AttributeError "
   ]
  },
  {
   "cell_type": "markdown",
   "metadata": {},
   "source": [
    "На первый взгляд, проще и читаемее не стало. Но, как минимум, нам не пришлось вручную создавать словарь с оценками и список хобби."
   ]
  },
  {
   "cell_type": "markdown",
   "metadata": {},
   "source": [
    "### Методы класса\n",
    "\n",
    "Методы класса - функция, принадлежащая классу. Объявляется как обычная функция, но внутри блока класса.\n",
    "\n",
    "Добавим нашему классу методы FillMarks, AddHobby и PrintInfo"
   ]
  },
  {
   "cell_type": "code",
   "execution_count": 20,
   "metadata": {},
   "outputs": [],
   "source": [
    "class Student:\n",
    "    name = \"\" \n",
    "    surname = \"\"\n",
    "    marks = dict()\n",
    "    hobbies = list()\n",
    "    \n",
    "    def FillMarks(self, marks_list): # Аргумент self - обязательный. Он содержит в себе экземпляр класса, передающийся при\n",
    "        subjects = [\"Математический анализ\", \"Теория вероятностей\", \"Алгоритмы и структуры данных\"] # вызове метода\n",
    "        for i in range(3):\n",
    "            self.marks[subjects[i]] = marks_list[i]\n",
    "    \n",
    "    def AddHobby(self, hobby):\n",
    "        self.hobbies.append(hobby)\n",
    "        \n",
    "    def PrintInfo(self):\n",
    "        print(self.name, self.surname, \"\\nСписок оценок:\")\n",
    "        for key in self.marks:\n",
    "            print(\"\\t\", key, \"-\", self.marks[key])\n",
    "        print(\"Список хобби:\", self.hobbies, end=\"\\n\\n\") "
   ]
  },
  {
   "cell_type": "code",
   "execution_count": 21,
   "metadata": {},
   "outputs": [
    {
     "name": "stdout",
     "output_type": "stream",
     "text": [
      "Пётр Иванов \n",
      "Список оценок:\n",
      "\t Математический анализ - 9\n",
      "\t Теория вероятностей - 9\n",
      "\t Алгоритмы и структуры данных - 10\n",
      "Список хобби: ['Лёгкая атлетика']\n",
      "\n"
     ]
    }
   ],
   "source": [
    "st1 = Student()\n",
    "st1.name = \"Пётр\"\n",
    "st1.surname = \"Иванов\"\n",
    "st1.FillMarks([9, 9, 10])\n",
    "st1.AddHobby(\"Лёгкая атлетика\")\n",
    "st1.PrintInfo()"
   ]
  },
  {
   "cell_type": "markdown",
   "metadata": {},
   "source": [
    "Вроде бы, уже лучше. Количество кода ощутимо сократилось."
   ]
  },
  {
   "cell_type": "markdown",
   "metadata": {},
   "source": [
    "Можно создавать новые экземпляры класса с заранее заданными параметрами с помощью конструктора."
   ]
  },
  {
   "cell_type": "code",
   "execution_count": 71,
   "metadata": {},
   "outputs": [],
   "source": [
    "# Конструктор класса - специальный метод __init__\n",
    "class Student:\n",
    "    \n",
    "    subjects = [\"Математический анализ\", \"Теория вероятностей\", \"Алгоритмы и структуры данных\"]\n",
    "    \n",
    "    def __init__(self, name, surname, marks_list, hobbies_list):\n",
    "        self.name = name\n",
    "        self.surname = surname\n",
    "        self.marks = dict()\n",
    "        self.hobbies = list()\n",
    "        for i in range(len(self.subjects)):\n",
    "            self.SetMark(self.subjects[i], marks_list[i])\n",
    "        for hobby in hobbies_list:\n",
    "            self.AddHobby(hobby)\n",
    "    \n",
    "    def SetMark(self, subject, mark):\n",
    "        self.marks[subject] = mark\n",
    "    \n",
    "    def AddHobby(self, hobby):\n",
    "        self.hobbies.append(hobby)\n",
    "        \n",
    "    def PrintInfo(self):\n",
    "        print(self.name, self.surname, \"\\nСписок оценок:\")\n",
    "        for key in self.marks:\n",
    "            print(\"\\t\", key, \"-\", self.marks[key])\n",
    "        print(\"Список хобби:\", self.hobbies, end=\"\\n\\n\") "
   ]
  },
  {
   "cell_type": "code",
   "execution_count": 72,
   "metadata": {},
   "outputs": [
    {
     "name": "stdout",
     "output_type": "stream",
     "text": [
      "Пётр Иванов \n",
      "Список оценок:\n",
      "\t Математический анализ - 9\n",
      "\t Теория вероятностей - 9\n",
      "\t Алгоритмы и структуры данных - 10\n",
      "Список хобби: ['Лёгкая атлетика']\n",
      "\n",
      "Мария Фёдорова \n",
      "Список оценок:\n",
      "\t Математический анализ - 10\n",
      "\t Теория вероятностей - 8\n",
      "\t Алгоритмы и структуры данных - 10\n",
      "Список хобби: ['Рисование']\n",
      "\n"
     ]
    }
   ],
   "source": [
    "st1 = Student(\"Пётр\", \"Иванов\", [9, 9, 10], [\"Лёгкая атлетика\"])\n",
    "st1.PrintInfo()\n",
    "\n",
    "st2 = Student(\"Мария\", \"Фёдорова\", [10, 8, 10], [\"Рисование\"])\n",
    "st2.PrintInfo()"
   ]
  },
  {
   "cell_type": "markdown",
   "metadata": {},
   "source": [
    "Специальный метод init - не единственный. Пусть мы хотим реализовать некоторый математический объект, к которому мы хотим уметь применять операции сложения, вычитания, cравнения и т.д. Для этого нам необходимо перегрузить некоторые операторы."
   ]
  },
  {
   "cell_type": "code",
   "execution_count": 90,
   "metadata": {},
   "outputs": [
    {
     "name": "stdout",
     "output_type": "stream",
     "text": [
      "(2, 5)\n",
      "(4, 1)\n",
      "3\n",
      "(3, 3)\n",
      "(-3, -3)\n",
      "False\n",
      "True\n"
     ]
    }
   ],
   "source": [
    "# В качестве примера, попробуем реализовать обычный вектор\n",
    "\n",
    "class Vector2d:\n",
    "    \n",
    "    def __init__(self, x, y):\n",
    "        self.x = x\n",
    "        self.y = y\n",
    "        \n",
    "    def __add__(self, other): # Перегрузить оператор + можно, определив специальный метод __add__\n",
    "        return Vector2d(self.x + other.x, self.y + other.y)\n",
    "        \n",
    "    def __sub__(self, other): # Перегрузить оператор + можно, определив специальный метод __sub__\n",
    "        return Vector2d(self.x - other.x, self.y - other.y)\n",
    "        \n",
    "    def __mul__(self, other): # Перегрузить оператор * можно, определив специальный метод __mul__\n",
    "        return self.x * other.x + self.y * other.y # Для простоты опишем скалярное произведение\n",
    "    \n",
    "    # За оператор деления отвечает специальный метод __truediv__\n",
    "    \n",
    "    def __pos__(self): # Унарный оператор +\n",
    "        return Vector2d(self.x, self.y)\n",
    "    \n",
    "    def __neg__(self): # Унарный оператор -\n",
    "        return Vector2d(-self.x, -self.y)\n",
    "    \n",
    "    # Эти методы должны что-либо возвращать, чтобы работали операции по типу v3 = v1 + v2\n",
    "    \n",
    "    def __eq__(self, other): # Оператор ==\n",
    "        return self.x == other.x and self.y == other.y\n",
    "    \n",
    "    def __ne__(self, other): # Оператор !=\n",
    "        return self.x != other.x or self.y != other.y\n",
    "    \n",
    "    # Другие операторы сравнения: __lt__ - <, __le__ - <=, __gt__ - >, __ge__ - >=\n",
    "    \n",
    "    def __str__(self): # Специальный метод __str__ отвечает за строковое представление объекта.\n",
    "        return '(' + str(self.x) + \", \" + str(self.y) + \")\" # Определим его, чтобы можно было воспользоваться функцией print\n",
    "    \n",
    "    # Методы __int__ и __bool__ отвечают аналогично за целочисленное и булевое представление\n",
    "    \n",
    "v1 = Vector2d(3, 3)\n",
    "v2 = Vector2d(-1, 2)\n",
    "v3 = v1 + v2\n",
    "print(v3)\n",
    "print(v1 - v2)\n",
    "print(v1 * v2)\n",
    "print(+v1)\n",
    "print(-v1)\n",
    "print(v1 == v2)\n",
    "print(v1 != v2)"
   ]
  },
  {
   "cell_type": "code",
   "execution_count": null,
   "metadata": {},
   "outputs": [],
   "source": []
  }
 ],
 "metadata": {
  "kernelspec": {
   "display_name": "Python 3",
   "language": "python",
   "name": "python3"
  },
  "language_info": {
   "codemirror_mode": {
    "name": "ipython",
    "version": 3
   },
   "file_extension": ".py",
   "mimetype": "text/x-python",
   "name": "python",
   "nbconvert_exporter": "python",
   "pygments_lexer": "ipython3",
   "version": "3.8.5"
  }
 },
 "nbformat": 4,
 "nbformat_minor": 4
}
