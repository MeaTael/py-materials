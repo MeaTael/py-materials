{
 "cells": [
  {
   "cell_type": "markdown",
   "metadata": {},
   "source": [
    "Переменные в Python\n",
    "---\n",
    "$Переменные\\ предназначены\\ для\\ хранения\\ данных.$\n",
    "$\\\\Создать\\ переменную\\ очень\\ просто:\\ нужно\\ придумать\\ ей\\ название\\ и\\ проинициализировать\\ её\\ некоторым\\ значением.$\n",
    "$\\\\При\\ этом,\\ название\\ переменной\\ должно\\ начинаться\\ с\\ буквы\\ или\\ нижнего\\ подчеркивания,\\ а\\ далее\\ может\\ содержать\\ буквы,\\ цифры,\\\\нижние\\ подчеркивания.$\n",
    "$\\\\Название\\ переменной\\ не\\ должно\\ совпадать\\ с\\ названием\\ ключевых\\ слов\\ языка\\ Python.$  "
   ]
  },
  {
   "cell_type": "code",
   "execution_count": 12,
   "metadata": {},
   "outputs": [
    {
     "data": {
      "text/plain": [
       "'hello'"
      ]
     },
     "execution_count": 12,
     "metadata": {},
     "output_type": "execute_result"
    }
   ],
   "source": [
    "str = \"hello\" # Создали строковую переменную str, её содержимое, как ни странно, строчка hello.\n",
    "str"
   ]
  },
  {
   "cell_type": "code",
   "execution_count": 13,
   "metadata": {},
   "outputs": [
    {
     "data": {
      "text/plain": [
       "5"
      ]
     },
     "execution_count": 13,
     "metadata": {},
     "output_type": "execute_result"
    }
   ],
   "source": [
    "_num_1 = 5 # То же самое, но уже с числом.\n",
    "_num_1"
   ]
  },
  {
   "cell_type": "markdown",
   "metadata": {},
   "source": [
    "$Как\\ можно\\ заметить,\\ переменные\\ в\\ Python\\ не\\ нуждаются\\ в\\ объявлении\\ своего\\ типа.\\ Python\\ определяет\\ тип\\ переменной\\\\ самостоятельно.$\n",
    "$\\\\Из-за\\ этого\\ можно\\ в\\ переменную,\\ содержащую,\\ к\\ примеру,\\ строку,\\ записать\\ некоторое\\ число.$\n",
    "$\\\\Так\\ делать,\\ конечно\\ же,\\ не\\ рекомендуется,\\ потому\\ что\\ может\\ привести\\ к\\ путанице.$"
   ]
  },
  {
   "cell_type": "code",
   "execution_count": 14,
   "metadata": {},
   "outputs": [
    {
     "name": "stdout",
     "output_type": "stream",
     "text": [
      "i am string\n",
      "42\n"
     ]
    }
   ],
   "source": [
    "variable = \"i am string\" # строковая переменная\n",
    "print(variable)\n",
    "variable = 42 # переприсвоили строковой переменной целочисленное значение\n",
    "print(variable)"
   ]
  },
  {
   "cell_type": "markdown",
   "metadata": {},
   "source": [
    "Типы данных в Python и работа с ними\n",
    "---\n",
    "В python есть несколько стандартных типов данных:\n",
    "$\\\\\\cdot\\ Числа\\ (Numbers)$\n",
    "$\\\\\\cdot\\ Строки\\ (Strings)$\n",
    "$\\\\\\cdot\\ Логический\\ тип\\ данных\\ (Bool)$\n",
    "$\\\\\\cdot\\ Списки\\ (Lists)$\n",
    "$\\\\\\cdot\\ Словари\\ (Dictionaries)$\n",
    "$\\\\\\cdot\\ Кортежи\\ (Tuples)$\n",
    "$\\\\\\cdot\\ Множества\\ (Sets)$"
   ]
  },
  {
   "cell_type": "markdown",
   "metadata": {},
   "source": [
    "Числа\n",
    "---\n",
    "$\\\\Числа\\ в\\ Python\\ представлены\\ тремя\\ встроенными\\ типами:\\ int,\\ float,\\ complex$\n",
    "$\\\\Результат\\ вычислений\\ при\\ необходимости\\ преобразуется\\ к\\ более\\ общему\\ типу$\n",
    "$\\\\Такое\\ преобразование\\ всегда\\ работает\\ только\\ в\\ одну\\ сторону\\ int\\rightarrow float\\rightarrow complex$"
   ]
  },
  {
   "cell_type": "code",
   "execution_count": 7,
   "metadata": {},
   "outputs": [
    {
     "data": {
      "text/plain": [
       "0.5"
      ]
     },
     "execution_count": 7,
     "metadata": {},
     "output_type": "execute_result"
    }
   ],
   "source": [
    "a = 1 # Создали переменную а, присвоили ей значение 1. Эта переменная представлена типом int.\n",
    "a = a / 2 # a/2 = 0.5 - непредставимо целым числом -> преобразуется в float\n",
    "a"
   ]
  },
  {
   "cell_type": "code",
   "execution_count": 8,
   "metadata": {},
   "outputs": [
    {
     "data": {
      "text/plain": [
       "1.0"
      ]
     },
     "execution_count": 8,
     "metadata": {},
     "output_type": "execute_result"
    }
   ],
   "source": [
    "a = a * 2 #проверим, преобразуется ли обратно в int?\n",
    "a"
   ]
  },
  {
   "cell_type": "markdown",
   "metadata": {},
   "source": [
    "Как и ожидалось, даже несмотря на то, что результат снова стал представим в виде целого числа, тип переменной остался прежним"
   ]
  },
  {
   "cell_type": "markdown",
   "metadata": {},
   "source": [
    "$Числа\\ относятся\\ к\\ неизменяемым\\ объектам,\\ то\\ есть\\ к\\ объектам,\\ чья\\ структура\\ не\\ может\\ быть\\ изменена\\ напрямую.$\n",
    "$\\\\То,\\ что\\ кажется\\ изменением\\ числа,\\ на\\ самом\\ деле\\ таковым\\ не\\ является.$\n"
   ]
  },
  {
   "cell_type": "code",
   "execution_count": 15,
   "metadata": {},
   "outputs": [
    {
     "data": {
      "text/plain": [
       "140725776820288"
      ]
     },
     "execution_count": 15,
     "metadata": {},
     "output_type": "execute_result"
    }
   ],
   "source": [
    "x = 10 # Создали объект со значением 10\n",
    "id(x) # Адрес переменной х в памяти"
   ]
  },
  {
   "cell_type": "code",
   "execution_count": 16,
   "metadata": {},
   "outputs": [
    {
     "data": {
      "text/plain": [
       "2269431558288"
      ]
     },
     "execution_count": 16,
     "metadata": {},
     "output_type": "execute_result"
    }
   ],
   "source": [
    "x /= 2 # Разделили x на 2\n",
    "id(x)"
   ]
  },
  {
   "cell_type": "markdown",
   "metadata": {},
   "source": [
    "Если деление на 2 - изменение числа, то адрес объекта не должен был поменяться. Значит, \"изменение\" числа на деле является заменой числа"
   ]
  },
  {
   "cell_type": "markdown",
   "metadata": {},
   "source": [
    "В основном математические операции в Python выполняется с помощью операторов:\n",
    "$\\\\\\cdot\\ +\\ (Сложение)$\n",
    "$\\\\\\cdot\\ -\\ (Вычитание)$\n",
    "$\\\\\\cdot\\ *\\ (Умножение)$\n",
    "$\\\\\\cdot\\ **\\ (Возведение\\ в\\ степень)$\n",
    "$\\\\\\cdot\\ /\\ (Деление)$\n",
    "$\\\\\\cdot\\ //\\ (Деление\\ нацело)$\n",
    "$\\\\\\cdot\\ \\%\\ (Остаток\\ от\\ деления)$\n",
    "$\\\\\\cdot\\ =\\ (Присваивание)$"
   ]
  },
  {
   "cell_type": "code",
   "execution_count": 17,
   "metadata": {},
   "outputs": [
    {
     "data": {
      "text/plain": [
       "4"
      ]
     },
     "execution_count": 17,
     "metadata": {},
     "output_type": "execute_result"
    }
   ],
   "source": [
    "2 + 2"
   ]
  },
  {
   "cell_type": "code",
   "execution_count": 18,
   "metadata": {},
   "outputs": [
    {
     "data": {
      "text/plain": [
       "2"
      ]
     },
     "execution_count": 18,
     "metadata": {},
     "output_type": "execute_result"
    }
   ],
   "source": [
    "3 - 1"
   ]
  },
  {
   "cell_type": "code",
   "execution_count": 19,
   "metadata": {},
   "outputs": [
    {
     "data": {
      "text/plain": [
       "25"
      ]
     },
     "execution_count": 19,
     "metadata": {},
     "output_type": "execute_result"
    }
   ],
   "source": [
    "5 * 5"
   ]
  },
  {
   "cell_type": "code",
   "execution_count": 20,
   "metadata": {},
   "outputs": [
    {
     "data": {
      "text/plain": [
       "100"
      ]
     },
     "execution_count": 20,
     "metadata": {},
     "output_type": "execute_result"
    }
   ],
   "source": [
    "10 ** 2"
   ]
  },
  {
   "cell_type": "code",
   "execution_count": 24,
   "metadata": {},
   "outputs": [
    {
     "data": {
      "text/plain": [
       "3.3333333333333335"
      ]
     },
     "execution_count": 24,
     "metadata": {},
     "output_type": "execute_result"
    }
   ],
   "source": [
    "10 / 3"
   ]
  },
  {
   "cell_type": "code",
   "execution_count": 25,
   "metadata": {},
   "outputs": [
    {
     "data": {
      "text/plain": [
       "3"
      ]
     },
     "execution_count": 25,
     "metadata": {},
     "output_type": "execute_result"
    }
   ],
   "source": [
    "10 // 3"
   ]
  },
  {
   "cell_type": "code",
   "execution_count": 26,
   "metadata": {},
   "outputs": [
    {
     "data": {
      "text/plain": [
       "1"
      ]
     },
     "execution_count": 26,
     "metadata": {},
     "output_type": "execute_result"
    }
   ],
   "source": [
    "10 % 3"
   ]
  },
  {
   "cell_type": "code",
   "execution_count": 28,
   "metadata": {},
   "outputs": [
    {
     "data": {
      "text/plain": [
       "10"
      ]
     },
     "execution_count": 28,
     "metadata": {},
     "output_type": "execute_result"
    }
   ],
   "source": [
    "a = 10\n",
    "a"
   ]
  },
  {
   "cell_type": "markdown",
   "metadata": {},
   "source": [
    "Кроме того, есть аналогичные операторы +=, -=, *= и т.д. Они нужны для сокращения записей по типу a = a - 1"
   ]
  },
  {
   "cell_type": "code",
   "execution_count": 31,
   "metadata": {},
   "outputs": [
    {
     "data": {
      "text/plain": [
       "10"
      ]
     },
     "execution_count": 31,
     "metadata": {},
     "output_type": "execute_result"
    }
   ],
   "source": [
    "num = 21\n",
    "num //= 2 # Аналогично num = num // 2\n",
    "num"
   ]
  },
  {
   "cell_type": "markdown",
   "metadata": {},
   "source": [
    "Операторы + и - применимы не только к двум операндам. Например:"
   ]
  },
  {
   "cell_type": "code",
   "execution_count": 38,
   "metadata": {},
   "outputs": [
    {
     "data": {
      "text/plain": [
       "-4"
      ]
     },
     "execution_count": 38,
     "metadata": {},
     "output_type": "execute_result"
    }
   ],
   "source": [
    "a = 4\n",
    "-a"
   ]
  },
  {
   "cell_type": "code",
   "execution_count": 43,
   "metadata": {},
   "outputs": [
    {
     "data": {
      "text/plain": [
       "3"
      ]
     },
     "execution_count": 43,
     "metadata": {},
     "output_type": "execute_result"
    }
   ],
   "source": [
    "b = 3\n",
    "+b"
   ]
  },
  {
   "cell_type": "markdown",
   "metadata": {},
   "source": [
    "В сложных выражениях порядок выполнения операций такой же, как в математике, и может быть скорректирован круглыми скобками"
   ]
  },
  {
   "cell_type": "code",
   "execution_count": 46,
   "metadata": {},
   "outputs": [
    {
     "data": {
      "text/plain": [
       "44.0"
      ]
     },
     "execution_count": 46,
     "metadata": {},
     "output_type": "execute_result"
    }
   ],
   "source": [
    "a = (8 + 4 ** 2 * 5) / 2 # Сначала 4 возведется в квадрат, затем умножится на 5, затем результат прибавится к 8, \n",
    "a                        # после чего все разделится на 2"
   ]
  },
  {
   "cell_type": "markdown",
   "metadata": {},
   "source": [
    "$\\\\Кроме\\ того,\\ можно\\ работать\\ с\\ битами\\ с\\ помощью\\ операторов:$\n",
    "$\\\\\\cdot$ ~ $(Битовое\\ отрицание)$\n",
    "$\\\\\\cdot\\ <<\\ (Битовый\\ сдвиг\\ влево)$\n",
    "$\\\\\\cdot\\ >>\\ (Битовый\\ сдвиг\\ вправо)$\n",
    "$\\\\\\cdot$ ^ $(Исключающее\\ или)$\n",
    "$\\\\\\cdot\\ |\\ (Битовое\\ или)$\n",
    "$\\\\\\cdot\\ \\&\\ (Битовое\\ и)$"
   ]
  },
  {
   "cell_type": "code",
   "execution_count": 36,
   "metadata": {},
   "outputs": [],
   "source": [
    "a = 10\n",
    "b = 18\n",
    "c = 60"
   ]
  },
  {
   "cell_type": "code",
   "execution_count": 37,
   "metadata": {},
   "outputs": [
    {
     "data": {
      "text/plain": [
       "'0b1010'"
      ]
     },
     "execution_count": 37,
     "metadata": {},
     "output_type": "execute_result"
    }
   ],
   "source": [
    "bin(a)"
   ]
  },
  {
   "cell_type": "code",
   "execution_count": 38,
   "metadata": {},
   "outputs": [
    {
     "data": {
      "text/plain": [
       "'0b10010'"
      ]
     },
     "execution_count": 38,
     "metadata": {},
     "output_type": "execute_result"
    }
   ],
   "source": [
    "bin(b)"
   ]
  },
  {
   "cell_type": "code",
   "execution_count": 39,
   "metadata": {},
   "outputs": [
    {
     "data": {
      "text/plain": [
       "'0b111100'"
      ]
     },
     "execution_count": 39,
     "metadata": {},
     "output_type": "execute_result"
    }
   ],
   "source": [
    "bin(c)"
   ]
  },
  {
   "cell_type": "code",
   "execution_count": 40,
   "metadata": {},
   "outputs": [
    {
     "data": {
      "text/plain": [
       "'-0b111101'"
      ]
     },
     "execution_count": 40,
     "metadata": {},
     "output_type": "execute_result"
    }
   ],
   "source": [
    "bin(~c)"
   ]
  },
  {
   "cell_type": "code",
   "execution_count": 46,
   "metadata": {},
   "outputs": [
    {
     "data": {
      "text/plain": [
       "'0b1010000'"
      ]
     },
     "execution_count": 46,
     "metadata": {},
     "output_type": "execute_result"
    }
   ],
   "source": [
    "bin(a << 3) # Сдвигает каждый из битов числа влево на указанное число бит. Новые биты заполняет нулями.\n",
    "# Аналогично умножению числа на 2 в степени длиы сдвига."
   ]
  },
  {
   "cell_type": "code",
   "execution_count": 48,
   "metadata": {},
   "outputs": [
    {
     "data": {
      "text/plain": [
       "'0b100'"
      ]
     },
     "execution_count": 48,
     "metadata": {},
     "output_type": "execute_result"
    }
   ],
   "source": [
    "bin(b >> 2) # Сдвигает каждый из битов числа вправо. Биты, ушедшие за \"границу\" числа, пропадают. \n",
    "# Аналогично целочисленному делению числа на 2 в степени длиы сдвига."
   ]
  },
  {
   "cell_type": "code",
   "execution_count": 22,
   "metadata": {},
   "outputs": [
    {
     "data": {
      "text/plain": [
       "'0b10'"
      ]
     },
     "execution_count": 22,
     "metadata": {},
     "output_type": "execute_result"
    }
   ],
   "source": [
    "bin(a & b) # Оставляет только общие биты чисел a и b"
   ]
  },
  {
   "cell_type": "code",
   "execution_count": 23,
   "metadata": {},
   "outputs": [
    {
     "data": {
      "text/plain": [
       "'0b11010'"
      ]
     },
     "execution_count": 23,
     "metadata": {},
     "output_type": "execute_result"
    }
   ],
   "source": [
    "bin(a | b) # Дополняет биты, отсутствующие в a, битами, присутствующими в b"
   ]
  },
  {
   "cell_type": "code",
   "execution_count": 41,
   "metadata": {},
   "outputs": [
    {
     "data": {
      "text/plain": [
       "'0b11000'"
      ]
     },
     "execution_count": 41,
     "metadata": {},
     "output_type": "execute_result"
    }
   ],
   "source": [
    "bin(a ^ b) # На месте i-го бита будет стоять 1 если i-ый бит числа a отличается от бита числа b"
   ]
  },
  {
   "cell_type": "markdown",
   "metadata": {},
   "source": [
    "__Функции__ для работы с числами"
   ]
  },
  {
   "cell_type": "code",
   "execution_count": 63,
   "metadata": {},
   "outputs": [
    {
     "data": {
      "text/plain": [
       "11"
      ]
     },
     "execution_count": 63,
     "metadata": {},
     "output_type": "execute_result"
    }
   ],
   "source": [
    "str = \"11\"\n",
    "int(str) # Функция int() в качестве первого аргумента принимает объект и выполняет его конвертацию в int"
   ]
  },
  {
   "cell_type": "code",
   "execution_count": 62,
   "metadata": {},
   "outputs": [
    {
     "data": {
      "text/plain": [
       "3"
      ]
     },
     "execution_count": 62,
     "metadata": {},
     "output_type": "execute_result"
    }
   ],
   "source": [
    "int(str, 2) # В качестве второго аргумента можно передать систему счисления, в этом случае первый аргумент должен быть\n",
    "            # именно строкой."
   ]
  },
  {
   "cell_type": "code",
   "execution_count": 67,
   "metadata": {},
   "outputs": [
    {
     "data": {
      "text/plain": [
       "1"
      ]
     },
     "execution_count": 67,
     "metadata": {},
     "output_type": "execute_result"
    }
   ],
   "source": [
    "int(1.54) # С помощью int() также можно конвертировать float в int (При этом будет выполнено округление вниз)"
   ]
  },
  {
   "cell_type": "code",
   "execution_count": 64,
   "metadata": {},
   "outputs": [
    {
     "data": {
      "text/plain": [
       "2"
      ]
     },
     "execution_count": 64,
     "metadata": {},
     "output_type": "execute_result"
    }
   ],
   "source": [
    "round(1.54) # Округление по обычным правилам"
   ]
  },
  {
   "cell_type": "code",
   "execution_count": 71,
   "metadata": {},
   "outputs": [
    {
     "name": "stdout",
     "output_type": "stream",
     "text": [
      "0b1100\n",
      "0xc\n",
      "12\n",
      "12\n"
     ]
    }
   ],
   "source": [
    "b = bin(12) # Получить двоичное представление числа\n",
    "h = hex(12) # Получить шестнадцатиричное представление числа\n",
    "print(b) # Функции bin() и hex() возвращают строку\n",
    "print(h)\n",
    "print(int(b, 2)) # Пример обратного преобразования с помощью int()\n",
    "print(int(h, 16))"
   ]
  },
  {
   "cell_type": "markdown",
   "metadata": {},
   "source": [
    "Дополнительные функции для работы с числами и математические константы представлены в библиотеке __math__.\n",
    "Подключить ее можно, как и любую другую библиотеку, с помощью ключевого слова __import__"
   ]
  },
  {
   "cell_type": "code",
   "execution_count": 8,
   "metadata": {},
   "outputs": [
    {
     "name": "stdout",
     "output_type": "stream",
     "text": [
      "2\n",
      "1\n",
      "1.0\n",
      "3.141592653589793\n",
      "2.718281828459045\n"
     ]
    }
   ],
   "source": [
    "import math\n",
    "print(math.ceil(1.44)) # math.ceil() - округление вверх\n",
    "print(math.trunc(1.55)) # math.trunc() - округление вниз\n",
    "print(math.cos(0)) # math.cos() - косинус\n",
    "print(math.pi)\n",
    "print(math.e)"
   ]
  },
  {
   "cell_type": "markdown",
   "metadata": {},
   "source": [
    "Строки\n",
    "---\n",
    "Строки в Python - упорядоченные последовательности символов, используемые для представления текстовой информации."
   ]
  },
  {
   "cell_type": "code",
   "execution_count": 24,
   "metadata": {},
   "outputs": [
    {
     "name": "stdout",
     "output_type": "stream",
     "text": [
      "Hello,\n",
      "world!\n",
      "single quote '\n",
      "double quote \"\n"
     ]
    }
   ],
   "source": [
    "str1 = \"Hello,\" # Чтобы обозначить строку используются как одинарные, так и двойные кавычки, разницы между ними нет\n",
    "print(str1)\n",
    "str2 = 'world!'\n",
    "print(str2)\n",
    "# сделано это для того, чтобы можно было вставлять кавычки внутрь строки, не используя экранирование\n",
    "print(\"single quote '\")\n",
    "print('double quote \"')"
   ]
  },
  {
   "cell_type": "markdown",
   "metadata": {},
   "source": [
    "$Экранированные\\ последовательности$\n",
    "$\\\\Экранированные\\ последовательности\\ -\\ специальные\\ символы,\\ которые\\ сложно\\ ввести\\ с\\ клавиатуры.$"
   ]
  },
  {
   "cell_type": "code",
   "execution_count": 32,
   "metadata": {},
   "outputs": [
    {
     "name": "stdout",
     "output_type": "stream",
     "text": [
      "some\n",
      "textt\b\tfor you\n",
      "\\n\n",
      "double quote \"\n"
     ]
    }
   ],
   "source": [
    "print(\"some\\ntextt\\b\\tfor you\") # \\n - символ переноса строки, \\b - backspace, \\t - горизонтальная табуляция\n",
    "# Хорошо, но допустим, нам буквально нужна строка \\n, а не перенос строки. В таком случае, придется сэкранировать \\ \n",
    "print(\"\\\\n\")\n",
    "# То же самое работает и с кавычками\n",
    "print(\"double quote \\\"\")"
   ]
  },
  {
   "cell_type": "markdown",
   "metadata": {},
   "source": [
    "Работа со строками"
   ]
  },
  {
   "cell_type": "code",
   "execution_count": 52,
   "metadata": {},
   "outputs": [
    {
     "name": "stdout",
     "output_type": "stream",
     "text": [
      "12\n"
     ]
    }
   ],
   "source": [
    "string = \"awesome text\"\n",
    "print(len(string)) # Функция len() позволяет узнать длину строки"
   ]
  },
  {
   "cell_type": "code",
   "execution_count": 45,
   "metadata": {},
   "outputs": [
    {
     "name": "stdout",
     "output_type": "stream",
     "text": [
      "a\n"
     ]
    }
   ],
   "source": [
    "print(string[0]) # Оператор [] позволяет получить доступ к элементу строки по индексу. Нумерация элементов начинается с нуля\n",
    "#string[20] # Если обратиться к индексу больше либо равному размеру строки - получим ошибку"
   ]
  },
  {
   "cell_type": "code",
   "execution_count": 46,
   "metadata": {},
   "outputs": [
    {
     "name": "stdout",
     "output_type": "stream",
     "text": [
      "t\n"
     ]
    }
   ],
   "source": [
    "print(string[-1]) # При этом можно обращаться к отрицательному индексу. Отсчет идет от конца строки\n",
    "#print(string[-13]) # Все еще нужно помнить, что обращаться за пределы строки - ошибка"
   ]
  },
  {
   "cell_type": "code",
   "execution_count": 47,
   "metadata": {},
   "outputs": [
    {
     "name": "stdout",
     "output_type": "stream",
     "text": [
      "text\n"
     ]
    }
   ],
   "source": [
    "print(string[8:12]) # Можно брать срез строки от индекса a до индекса b с помощью [a:b], при этом b - не включительно"
   ]
  },
  {
   "cell_type": "code",
   "execution_count": 48,
   "metadata": {},
   "outputs": [
    {
     "name": "stdout",
     "output_type": "stream",
     "text": [
      "ome text\n"
     ]
    }
   ],
   "source": [
    "print(string[4:]) # Если не указывать конечную границу - строка будет взята от a до конца"
   ]
  },
  {
   "cell_type": "code",
   "execution_count": 49,
   "metadata": {},
   "outputs": [
    {
     "name": "stdout",
     "output_type": "stream",
     "text": [
      "awesome t\n"
     ]
    }
   ],
   "source": [
    "print(string[:9]) # Если не указывать начальную границу - строка будет взята от начала до b"
   ]
  },
  {
   "cell_type": "code",
   "execution_count": 50,
   "metadata": {},
   "outputs": [
    {
     "name": "stdout",
     "output_type": "stream",
     "text": [
      "awesome text\n"
     ]
    }
   ],
   "source": [
    "print(string[:])"
   ]
  },
  {
   "cell_type": "code",
   "execution_count": 51,
   "metadata": {},
   "outputs": [
    {
     "name": "stdout",
     "output_type": "stream",
     "text": [
      "eoetx\n"
     ]
    }
   ],
   "source": [
    "print(string[2:11:2]) # Можно указать шаг, с которым будет извлекаться срез"
   ]
  },
  {
   "cell_type": "code",
   "execution_count": 43,
   "metadata": {},
   "outputs": [
    {
     "name": "stdout",
     "output_type": "stream",
     "text": [
      "Hello, world!\n",
      "Hello, Hello, Hello, Hello, \n"
     ]
    }
   ],
   "source": [
    "first_str = \"Hello, \"\n",
    "second_str = \"world!\"\n",
    "print(first_str + second_str) # Строки можно складывать\n",
    "print(first_str * 4) # И даже умножать! (Главное не на другую строку)"
   ]
  },
  {
   "cell_type": "markdown",
   "metadata": {},
   "source": [
    "Строки также относятся к неизменяемым последовательностям, поэтому строковые функции и методы возвращают новую строку."
   ]
  },
  {
   "cell_type": "code",
   "execution_count": 57,
   "metadata": {},
   "outputs": [
    {
     "name": "stdout",
     "output_type": "stream",
     "text": [
      "hm hm\n"
     ]
    }
   ],
   "source": [
    "string = \"hh hm\"\n",
    "#string[1] = \"m\" # Получим ошибку\n",
    "string = string[:1] + \"m\" + string[2:] # Изменить строку можно, например, так\n",
    "print(string)"
   ]
  },
  {
   "cell_type": "markdown",
   "metadata": {},
   "source": [
    "$Методы\\ строк$\n",
    "$\\\\Методы\\ -\\ функции,\\ принадлежащие\\ объекту$\n",
    "$\\\\К\\ методам\\ нужно обращаться\\ с\\ помощью\\ оператора\\ \".\"$"
   ]
  },
  {
   "cell_type": "code",
   "execution_count": 9,
   "metadata": {},
   "outputs": [
    {
     "name": "stdout",
     "output_type": "stream",
     "text": [
      "2\n",
      "-1\n"
     ]
    }
   ],
   "source": [
    "string = \"Nothing to say here\"\n",
    "print(string.find(\"thing\")) # С помощью метода .find() осуществляется поиск подстроки в строке. Он возвращает номер первого\n",
    "print(string.find(\"there\")) # вхождения подстроки, переданной в аргумент метода или же -1, если такой подстроки нет"
   ]
  },
  {
   "cell_type": "code",
   "execution_count": 10,
   "metadata": {},
   "outputs": [
    {
     "name": "stdout",
     "output_type": "stream",
     "text": [
      "2\n",
      "8\n"
     ]
    }
   ],
   "source": [
    "# Есть и аналогичный метод .rfind(), он осуществляет поиск подстроки с конца (т.е. последнее вхождение подстроки)\n",
    "print(string.find(\"t\"))\n",
    "print(string.rfind(\"t\"))"
   ]
  },
  {
   "cell_type": "code",
   "execution_count": 11,
   "metadata": {},
   "outputs": [
    {
     "name": "stdout",
     "output_type": "stream",
     "text": [
      "8\n"
     ]
    }
   ],
   "source": [
    "#Кроме того, в качестве второго и третьего аргументов можно передать индексы, в пределах которых нужно осуществлять поиск\n",
    "print(string.find(\"t\", 3, 12))"
   ]
  },
  {
   "cell_type": "code",
   "execution_count": 12,
   "metadata": {},
   "outputs": [
    {
     "name": "stdout",
     "output_type": "stream",
     "text": [
      "-1\n"
     ]
    },
    {
     "ename": "ValueError",
     "evalue": "substring not found",
     "output_type": "error",
     "traceback": [
      "\u001b[1;31m---------------------------------------------------------------------------\u001b[0m",
      "\u001b[1;31mValueError\u001b[0m                                Traceback (most recent call last)",
      "\u001b[1;32m<ipython-input-12-d63610b94f55>\u001b[0m in \u001b[0;36m<module>\u001b[1;34m\u001b[0m\n\u001b[0;32m      2\u001b[0m \u001b[1;31m# строка не будет найдена, будет вызвана ValueError\u001b[0m\u001b[1;33m\u001b[0m\u001b[1;33m\u001b[0m\u001b[1;33m\u001b[0m\u001b[0m\n\u001b[0;32m      3\u001b[0m \u001b[0mprint\u001b[0m\u001b[1;33m(\u001b[0m\u001b[0mstring\u001b[0m\u001b[1;33m.\u001b[0m\u001b[0mfind\u001b[0m\u001b[1;33m(\u001b[0m\u001b[1;34m\"E\"\u001b[0m\u001b[1;33m)\u001b[0m\u001b[1;33m)\u001b[0m\u001b[1;33m\u001b[0m\u001b[1;33m\u001b[0m\u001b[0m\n\u001b[1;32m----> 4\u001b[1;33m \u001b[0mprint\u001b[0m\u001b[1;33m(\u001b[0m\u001b[0mstring\u001b[0m\u001b[1;33m.\u001b[0m\u001b[0mindex\u001b[0m\u001b[1;33m(\u001b[0m\u001b[1;34m\"E\"\u001b[0m\u001b[1;33m)\u001b[0m\u001b[1;33m)\u001b[0m\u001b[1;33m\u001b[0m\u001b[1;33m\u001b[0m\u001b[0m\n\u001b[0m",
      "\u001b[1;31mValueError\u001b[0m: substring not found"
     ]
    }
   ],
   "source": [
    "# Есть еще два метода для поиска подстроки .index() и .rindex(). Отличие от метода .find() только в том, что в случае, если\n",
    "# строка не будет найдена, будет вызвана ValueError\n",
    "print(string.find(\"E\"))\n",
    "print(string.index(\"E\"))"
   ]
  },
  {
   "cell_type": "code",
   "execution_count": 14,
   "metadata": {},
   "outputs": [
    {
     "name": "stdout",
     "output_type": "stream",
     "text": [
      "['No', 'hing ', 'o say here']\n"
     ]
    }
   ],
   "source": [
    "print(string.split(\"t\")) # Метод .split() разделяет строку по разделителю на несколько строк, и возвращает список из них"
   ]
  },
  {
   "cell_type": "code",
   "execution_count": 15,
   "metadata": {},
   "outputs": [
    {
     "name": "stdout",
     "output_type": "stream",
     "text": [
      "['Nothing', 'to', 'say', 'here']\n"
     ]
    }
   ],
   "source": [
    "print(string.split()) # Если разделитель не указан, то по умолчанию им будет \" \""
   ]
  },
  {
   "cell_type": "code",
   "execution_count": 17,
   "metadata": {},
   "outputs": [
    {
     "name": "stdout",
     "output_type": "stream",
     "text": [
      "Everything to say here\n"
     ]
    }
   ],
   "source": [
    "print(string.replace(\"No\", \"Some\")) # Метод .replace() заменяет подстроки из первого аргумента на строки из второго аргумента"
   ]
  },
  {
   "cell_type": "code",
   "execution_count": 18,
   "metadata": {},
   "outputs": [
    {
     "name": "stdout",
     "output_type": "stream",
     "text": [
      "Some Some Some No No\n"
     ]
    }
   ],
   "source": [
    "str1 = \"No No No No No\"\n",
    "print(str1.replace(\"No\", \"Some\", 3)) # В третий аргумент можно передать максимальное количество подстрок, которые можно заменить"
   ]
  },
  {
   "cell_type": "code",
   "execution_count": 23,
   "metadata": {},
   "outputs": [
    {
     "name": "stdout",
     "output_type": "stream",
     "text": [
      "True\n"
     ]
    }
   ],
   "source": [
    "digit_str = \"123\"\n",
    "print(digit_str.isdigit()) # Проверяет, состоит ли строка только из цифр"
   ]
  },
  {
   "cell_type": "code",
   "execution_count": 24,
   "metadata": {},
   "outputs": [
    {
     "name": "stdout",
     "output_type": "stream",
     "text": [
      "False\n"
     ]
    }
   ],
   "source": [
    "probably_digit_str = \"123 \"\n",
    "print(probably_digit_str.isdigit())"
   ]
  },
  {
   "cell_type": "code",
   "execution_count": 26,
   "metadata": {},
   "outputs": [
    {
     "name": "stdout",
     "output_type": "stream",
     "text": [
      "True\n"
     ]
    }
   ],
   "source": [
    "_str = \"abc\"\n",
    "print(_str.isalpha()) # Проверяет, состоит ли строка только из букв"
   ]
  },
  {
   "cell_type": "code",
   "execution_count": 27,
   "metadata": {},
   "outputs": [
    {
     "name": "stdout",
     "output_type": "stream",
     "text": [
      "False\n"
     ]
    }
   ],
   "source": [
    "print(digit_str.isalpha())"
   ]
  },
  {
   "cell_type": "code",
   "execution_count": 29,
   "metadata": {},
   "outputs": [
    {
     "name": "stdout",
     "output_type": "stream",
     "text": [
      "True\n"
     ]
    }
   ],
   "source": [
    "_str2 = \"a1b2c3\"\n",
    "print(_str2.isalnum()) # Проверяет, состоит ли строка только из букв и цифр"
   ]
  },
  {
   "cell_type": "code",
   "execution_count": 30,
   "metadata": {},
   "outputs": [
    {
     "name": "stdout",
     "output_type": "stream",
     "text": [
      "True\n"
     ]
    }
   ],
   "source": [
    "space_str = \" \\n\\f\\t\\r\\v\"\n",
    "print(space_str.isspace()) # Проверяет, состоит ли строка из неотображаемых символов: \" \", \"\\n\", \"\\f\", \"\\t\", \"\\r\", \"\\v\""
   ]
  },
  {
   "cell_type": "code",
   "execution_count": 34,
   "metadata": {},
   "outputs": [
    {
     "name": "stdout",
     "output_type": "stream",
     "text": [
      "True\n",
      "False\n",
      "True\n",
      "False\n"
     ]
    }
   ],
   "source": [
    "lower_str = \"abcd\"\n",
    "upper_str = \"ABCD\"\n",
    "print(lower_str.islower()) # Проверяет, состоит ли строка из символов в нижнем регистре\n",
    "print(lower_str.isupper()) # Проверяет, состоит ли строка из символов в верхнем регистре\n",
    "print(upper_str.isupper())\n",
    "print(upper_str.islower())"
   ]
  },
  {
   "cell_type": "code",
   "execution_count": 41,
   "metadata": {},
   "outputs": [
    {
     "name": "stdout",
     "output_type": "stream",
     "text": [
      "True\n"
     ]
    }
   ],
   "source": [
    "print(lower_str.startswith(\"ab\")) # Проверяет, начинается ли строка с подстроки, переданной в аргументе"
   ]
  },
  {
   "cell_type": "code",
   "execution_count": 40,
   "metadata": {},
   "outputs": [
    {
     "name": "stdout",
     "output_type": "stream",
     "text": [
      "True\n"
     ]
    }
   ],
   "source": [
    "print(lower_str.endswith(\"cd\")) # Проверяет, заканчивается ли строка подстрокой, переданной в аргументе"
   ]
  },
  {
   "cell_type": "code",
   "execution_count": 42,
   "metadata": {},
   "outputs": [
    {
     "name": "stdout",
     "output_type": "stream",
     "text": [
      "5\n"
     ]
    }
   ],
   "source": [
    "str1 = \"No No No No No\"\n",
    "print(str1.count(\"No\")) # Возвращает количество вхождений в строку подстроки, переданной в аргументе"
   ]
  },
  {
   "cell_type": "markdown",
   "metadata": {},
   "source": [
    "Функции ord() и chr()"
   ]
  },
  {
   "cell_type": "code",
   "execution_count": 53,
   "metadata": {},
   "outputs": [
    {
     "data": {
      "text/plain": [
       "97"
      ]
     },
     "execution_count": 53,
     "metadata": {},
     "output_type": "execute_result"
    }
   ],
   "source": [
    "ord(\"a\") # ord() позволяет узнать код ASCII символа"
   ]
  },
  {
   "cell_type": "code",
   "execution_count": 55,
   "metadata": {},
   "outputs": [
    {
     "data": {
      "text/plain": [
       "'a'"
      ]
     },
     "execution_count": 55,
     "metadata": {},
     "output_type": "execute_result"
    }
   ],
   "source": [
    "chr(97) # chr() возвращает символ, по его коду ASCII"
   ]
  },
  {
   "cell_type": "markdown",
   "metadata": {},
   "source": [
    "Bool\n",
    "---\n",
    "Логический тип данных. Имеет два значения - True и False"
   ]
  },
  {
   "cell_type": "markdown",
   "metadata": {},
   "source": [
    "Bool в основном используется для работы с условными конструкциями."
   ]
  },
  {
   "cell_type": "markdown",
   "metadata": {},
   "source": [
    "Конструктор типа bool(x) может использоваться для приведения значения к логическому типу, если его можно интерпретировать"
   ]
  },
  {
   "cell_type": "code",
   "execution_count": 1,
   "metadata": {},
   "outputs": [
    {
     "data": {
      "text/plain": [
       "False"
      ]
     },
     "execution_count": 1,
     "metadata": {},
     "output_type": "execute_result"
    }
   ],
   "source": [
    "bool()"
   ]
  },
  {
   "cell_type": "code",
   "execution_count": 2,
   "metadata": {},
   "outputs": [
    {
     "data": {
      "text/plain": [
       "False"
      ]
     },
     "execution_count": 2,
     "metadata": {},
     "output_type": "execute_result"
    }
   ],
   "source": [
    "bool(0) # Ноль - всегда False"
   ]
  },
  {
   "cell_type": "code",
   "execution_count": 6,
   "metadata": {},
   "outputs": [
    {
     "data": {
      "text/plain": [
       "True"
      ]
     },
     "execution_count": 6,
     "metadata": {},
     "output_type": "execute_result"
    }
   ],
   "source": [
    "bool(-1) # Любое ненулевое числовое значение - True"
   ]
  },
  {
   "cell_type": "code",
   "execution_count": 4,
   "metadata": {},
   "outputs": [
    {
     "data": {
      "text/plain": [
       "False"
      ]
     },
     "execution_count": 4,
     "metadata": {},
     "output_type": "execute_result"
    }
   ],
   "source": [
    "bool([]) # Пустой список - тоже False"
   ]
  },
  {
   "cell_type": "code",
   "execution_count": 7,
   "metadata": {},
   "outputs": [
    {
     "data": {
      "text/plain": [
       "True"
      ]
     },
     "execution_count": 7,
     "metadata": {},
     "output_type": "execute_result"
    }
   ],
   "source": [
    "bool([0, 0 ,0]) # А вот непустой список, даже заполненный нулями - True"
   ]
  },
  {
   "cell_type": "code",
   "execution_count": 12,
   "metadata": {},
   "outputs": [
    {
     "data": {
      "text/plain": [
       "False"
      ]
     },
     "execution_count": 12,
     "metadata": {},
     "output_type": "execute_result"
    }
   ],
   "source": [
    "bool(\"\") # Так же и со строками: пустая - False"
   ]
  },
  {
   "cell_type": "code",
   "execution_count": 13,
   "metadata": {},
   "outputs": [
    {
     "data": {
      "text/plain": [
       "True"
      ]
     },
     "execution_count": 13,
     "metadata": {},
     "output_type": "execute_result"
    }
   ],
   "source": [
    "bool(\"text\")"
   ]
  },
  {
   "cell_type": "code",
   "execution_count": 14,
   "metadata": {},
   "outputs": [
    {
     "data": {
      "text/plain": [
       "True"
      ]
     },
     "execution_count": 14,
     "metadata": {},
     "output_type": "execute_result"
    }
   ],
   "source": [
    "def func():\n",
    "    print(\"string\") # Определили функцию func, она будет просто печатать строку\n",
    "\n",
    "bool(func) # Функции - всегда True"
   ]
  },
  {
   "cell_type": "markdown",
   "metadata": {},
   "source": [
    "Bool также может быть с помощью операторов ==, !=, <=, >=, <, >"
   ]
  },
  {
   "cell_type": "code",
   "execution_count": 18,
   "metadata": {},
   "outputs": [
    {
     "data": {
      "text/plain": [
       "True"
      ]
     },
     "execution_count": 18,
     "metadata": {},
     "output_type": "execute_result"
    }
   ],
   "source": [
    "5 < 10"
   ]
  },
  {
   "cell_type": "code",
   "execution_count": 8,
   "metadata": {},
   "outputs": [
    {
     "data": {
      "text/plain": [
       "True"
      ]
     },
     "execution_count": 8,
     "metadata": {},
     "output_type": "execute_result"
    }
   ],
   "source": [
    "1 <= 3"
   ]
  },
  {
   "cell_type": "code",
   "execution_count": 17,
   "metadata": {},
   "outputs": [
    {
     "data": {
      "text/plain": [
       "True"
      ]
     },
     "execution_count": 17,
     "metadata": {},
     "output_type": "execute_result"
    }
   ],
   "source": [
    "2 == 2"
   ]
  },
  {
   "cell_type": "code",
   "execution_count": 25,
   "metadata": {},
   "outputs": [
    {
     "data": {
      "text/plain": [
       "False"
      ]
     },
     "execution_count": 25,
     "metadata": {},
     "output_type": "execute_result"
    }
   ],
   "source": [
    "2 != 2"
   ]
  },
  {
   "cell_type": "code",
   "execution_count": 16,
   "metadata": {},
   "outputs": [
    {
     "data": {
      "text/plain": [
       "False"
      ]
     },
     "execution_count": 16,
     "metadata": {},
     "output_type": "execute_result"
    }
   ],
   "source": [
    "2 >= 7"
   ]
  },
  {
   "cell_type": "code",
   "execution_count": 19,
   "metadata": {},
   "outputs": [
    {
     "data": {
      "text/plain": [
       "False"
      ]
     },
     "execution_count": 19,
     "metadata": {},
     "output_type": "execute_result"
    }
   ],
   "source": [
    "10 > 10"
   ]
  },
  {
   "cell_type": "markdown",
   "metadata": {},
   "source": [
    "С помощью операторов __not__, __and__(&), __or__(|), __^__ (и, или, искл. или соответственно) можно составлять более сложные \n",
    "логические конструкции. "
   ]
  },
  {
   "cell_type": "code",
   "execution_count": 5,
   "metadata": {},
   "outputs": [
    {
     "data": {
      "text/plain": [
       "True"
      ]
     },
     "execution_count": 5,
     "metadata": {},
     "output_type": "execute_result"
    }
   ],
   "source": [
    "(1 == 1) | (not (2 == 2))"
   ]
  },
  {
   "cell_type": "code",
   "execution_count": 27,
   "metadata": {},
   "outputs": [
    {
     "data": {
      "text/plain": [
       "False"
      ]
     },
     "execution_count": 27,
     "metadata": {},
     "output_type": "execute_result"
    }
   ],
   "source": [
    "(3 >= 2) & (5 > 6)"
   ]
  },
  {
   "cell_type": "code",
   "execution_count": 29,
   "metadata": {},
   "outputs": [
    {
     "data": {
      "text/plain": [
       "False"
      ]
     },
     "execution_count": 29,
     "metadata": {},
     "output_type": "execute_result"
    }
   ],
   "source": [
    "(1 == 1) & (2 != 2) ^ (3 >= 2) & (5 > 6)"
   ]
  },
  {
   "cell_type": "markdown",
   "metadata": {},
   "source": [
    "При этом, стоит заметить, что __or__ самый младший по приоритетности оператор, а у __and__ приоритетность ниже чем у __^__."
   ]
  },
  {
   "cell_type": "markdown",
   "metadata": {},
   "source": [
    "Ввод и вывод данных в python\n",
    "---"
   ]
  },
  {
   "cell_type": "markdown",
   "metadata": {},
   "source": [
    "Функция input() считывает одну строку с потока ввода и возвращает ее."
   ]
  },
  {
   "cell_type": "code",
   "execution_count": 1,
   "metadata": {},
   "outputs": [
    {
     "name": "stdout",
     "output_type": "stream",
     "text": [
      "some string\n"
     ]
    },
    {
     "data": {
      "text/plain": [
       "'some string'"
      ]
     },
     "execution_count": 1,
     "metadata": {},
     "output_type": "execute_result"
    }
   ],
   "source": [
    "str = input()\n",
    "str"
   ]
  },
  {
   "cell_type": "markdown",
   "metadata": {},
   "source": [
    "Если мы знаем, входные данные нужно представлять как число, полученную строку пробразуем в int"
   ]
  },
  {
   "cell_type": "code",
   "execution_count": 1,
   "metadata": {},
   "outputs": [
    {
     "name": "stdout",
     "output_type": "stream",
     "text": [
      "3\n"
     ]
    },
    {
     "data": {
      "text/plain": [
       "3"
      ]
     },
     "execution_count": 1,
     "metadata": {},
     "output_type": "execute_result"
    }
   ],
   "source": [
    "num = int(input())\n",
    "num"
   ]
  },
  {
   "cell_type": "markdown",
   "metadata": {},
   "source": [
    "Могут быть ситуации когда в одной строке могут находиться значения, которые мы хотим положить в несколько переменных"
   ]
  },
  {
   "cell_type": "markdown",
   "metadata": {},
   "source": [
    "Здесь нам поможет метод .split()"
   ]
  },
  {
   "cell_type": "code",
   "execution_count": 3,
   "metadata": {},
   "outputs": [
    {
     "name": "stdout",
     "output_type": "stream",
     "text": [
      "first second third\n"
     ]
    },
    {
     "data": {
      "text/plain": [
       "['first', 'second', 'third']"
      ]
     },
     "execution_count": 3,
     "metadata": {},
     "output_type": "execute_result"
    }
   ],
   "source": [
    "args = input().split() # input() вернет строку, к ней будет применен метод .split(). Он разделит полученную строку по пробелам.\n",
    "args"
   ]
  },
  {
   "cell_type": "markdown",
   "metadata": {},
   "source": [
    "Затем, можно положить полученные значения в переменные следующим образом:"
   ]
  },
  {
   "cell_type": "code",
   "execution_count": 5,
   "metadata": {},
   "outputs": [
    {
     "name": "stdout",
     "output_type": "stream",
     "text": [
      "first\n",
      "second\n",
      "third\n"
     ]
    }
   ],
   "source": [
    "fst = args[0] # Нумерация элементов списка начинается с 0\n",
    "snd = args[1]\n",
    "third = args[2]\n",
    "print(fst, snd, third, sep='\\n')"
   ]
  },
  {
   "cell_type": "markdown",
   "metadata": {},
   "source": [
    "Если мы ожидаем, нам на вход подадут несколько чисел в одной строке, можно воспользоваться функцией map()."
   ]
  },
  {
   "cell_type": "markdown",
   "metadata": {},
   "source": [
    "map() принимает 2 аргумента: первый - функция, второй - итерируемый объект (им может быть, например, список или словарь)."
   ]
  },
  {
   "cell_type": "markdown",
   "metadata": {},
   "source": [
    "К каждому элементу итерируемого объекта будет применена функция, которую мы передали в первый аргумент."
   ]
  },
  {
   "cell_type": "markdown",
   "metadata": {},
   "source": [
    "Поэтому, сначала мы считаем строку, сделаем из нее список из чисел, хранящихся в виде строки, а затем применим к каждой строке"
   ]
  },
  {
   "cell_type": "markdown",
   "metadata": {},
   "source": [
    "функцию int(). На этом еще не все: Функция map() возвращает объект map, а нам нужен список, поэтому воспользуемся функцией"
   ]
  },
  {
   "cell_type": "markdown",
   "metadata": {},
   "source": [
    "list() (аналогична функциям int(), str(), bool(), описанным выше)"
   ]
  },
  {
   "cell_type": "markdown",
   "metadata": {},
   "source": [
    "Таким образом, получим решение всего в одну строку:"
   ]
  },
  {
   "cell_type": "code",
   "execution_count": 12,
   "metadata": {},
   "outputs": [
    {
     "name": "stdout",
     "output_type": "stream",
     "text": [
      "3 4 5 10\n"
     ]
    },
    {
     "data": {
      "text/plain": [
       "[3, 4, 5, 10]"
      ]
     },
     "execution_count": 12,
     "metadata": {},
     "output_type": "execute_result"
    }
   ],
   "source": [
    "numbers = list(map(int, input().split())) # Заметим, что когда мы передаем функцию в качестве параметра, скобки не ставим\n",
    "numbers"
   ]
  },
  {
   "cell_type": "markdown",
   "metadata": {},
   "source": [
    "Иногда, нас могут попросить считать данные из файла. С этим нам поможет функция open()."
   ]
  },
  {
   "cell_type": "markdown",
   "metadata": {},
   "source": [
    "open() принимает 2 параметра: Путь к файлу и режим его открытия. По умолчанию мы открываем файл на чтение в текстовом режиме."
   ]
  },
  {
   "cell_type": "code",
   "execution_count": null,
   "metadata": {},
   "outputs": [],
   "source": [
    "После окончания работы с файлом, его нужно закрыть с помощью метода close()"
   ]
  },
  {
   "cell_type": "code",
   "execution_count": 48,
   "metadata": {},
   "outputs": [],
   "source": [
    "file = open(\"input.txt\")"
   ]
  },
  {
   "cell_type": "markdown",
   "metadata": {},
   "source": [
    "Далее мы можем полностью считать файл с помощью метода read(). Если передать ему целочисленный параметр n, он считает только"
   ]
  },
  {
   "cell_type": "markdown",
   "metadata": {},
   "source": [
    "n символов."
   ]
  },
  {
   "cell_type": "code",
   "execution_count": 49,
   "metadata": {},
   "outputs": [
    {
     "data": {
      "text/plain": [
       "'3 4 5 10\\n8 9 3 5'"
      ]
     },
     "execution_count": 49,
     "metadata": {},
     "output_type": "execute_result"
    }
   ],
   "source": [
    "data = file.read()\n",
    "file.close()\n",
    "data"
   ]
  },
  {
   "cell_type": "markdown",
   "metadata": {},
   "source": [
    "Кроме того, мы можем пройтись по файлу построчно с помощью цикла for:"
   ]
  },
  {
   "cell_type": "code",
   "execution_count": 50,
   "metadata": {},
   "outputs": [
    {
     "name": "stdout",
     "output_type": "stream",
     "text": [
      "3 4 5 10\n",
      "8 9 3 5\n"
     ]
    }
   ],
   "source": [
    "file_ = open(\"input.txt\")\n",
    "for line in file_:\n",
    "    print(line.strip())\n",
    "file_.close()"
   ]
  },
  {
   "cell_type": "markdown",
   "metadata": {},
   "source": [
    "Вывод данных в Python можно осуществить с помощью функции print()"
   ]
  },
  {
   "cell_type": "code",
   "execution_count": 40,
   "metadata": {},
   "outputs": [
    {
     "name": "stdout",
     "output_type": "stream",
     "text": [
      "text\n",
      "42\n",
      "[3, 5, 10]\n"
     ]
    }
   ],
   "source": [
    "str = \"text\"\n",
    "num = 42\n",
    "lst = [3, 5, 10]\n",
    "print(str)\n",
    "print(num)\n",
    "print(lst)"
   ]
  },
  {
   "cell_type": "markdown",
   "metadata": {},
   "source": [
    "print() принимает неограниченное количество параметров и выводит их последовательно."
   ]
  },
  {
   "cell_type": "code",
   "execution_count": 42,
   "metadata": {},
   "outputs": [
    {
     "name": "stdout",
     "output_type": "stream",
     "text": [
      "text 42 [3, 5, 10]\n"
     ]
    }
   ],
   "source": [
    "print(str, num, lst)"
   ]
  },
  {
   "cell_type": "markdown",
   "metadata": {},
   "source": [
    "Кроме того, у print() есть параметры __sep__ (строка-разделитель) и __end__ (завершающая строка)."
   ]
  },
  {
   "cell_type": "markdown",
   "metadata": {},
   "source": [
    "Из примеров выше можно заметить, по умолчанию sep = \" \", end = \"\\n\"."
   ]
  },
  {
   "cell_type": "code",
   "execution_count": 45,
   "metadata": {},
   "outputs": [
    {
     "name": "stdout",
     "output_type": "stream",
     "text": [
      "text! !42! ![3, 5, 10]*"
     ]
    }
   ],
   "source": [
    "print(str, num, lst, sep=\"! !\", end=\"*\")"
   ]
  },
  {
   "cell_type": "markdown",
   "metadata": {},
   "source": [
    "Можно записать данные в файл."
   ]
  },
  {
   "cell_type": "code",
   "execution_count": 52,
   "metadata": {},
   "outputs": [],
   "source": [
    "file = open(\"output.txt\", \"w\") # Открыли файл на запись с помощью функции open()\n",
    "file.write(str + \"\\n\") \n",
    "file.close()"
   ]
  },
  {
   "cell_type": "markdown",
   "metadata": {},
   "source": [
    "Проверим, что данные действительно записались:"
   ]
  },
  {
   "cell_type": "code",
   "execution_count": 54,
   "metadata": {},
   "outputs": [
    {
     "name": "stdout",
     "output_type": "stream",
     "text": [
      "text\n"
     ]
    }
   ],
   "source": [
    "file = open(\"output.txt\")\n",
    "print(file.read().strip()) \n",
    "file.close()"
   ]
  }
 ],
 "metadata": {
  "kernelspec": {
   "display_name": "Python 3",
   "language": "python",
   "name": "python3"
  },
  "language_info": {
   "codemirror_mode": {
    "name": "ipython",
    "version": 3
   },
   "file_extension": ".py",
   "mimetype": "text/x-python",
   "name": "python",
   "nbconvert_exporter": "python",
   "pygments_lexer": "ipython3",
   "version": "3.8.5"
  }
 },
 "nbformat": 4,
 "nbformat_minor": 4
}
